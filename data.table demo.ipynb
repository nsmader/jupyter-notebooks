{
 "cells": [
  {
   "cell_type": "markdown",
   "metadata": {},
   "source": [
    "<p style=\"font-size:36px\"> Demonstration of data.table functionality</p>\n",
    "\n",
    "For several great example-based resources for seeing what data.table can do, see:\n",
    "\n",
    "* DataCamp's data.table cheat sheet (saved under **H:\\LIBRARY\\R references/data.table/data.table cheat sheet.pdf**)\n",
    "* the built-in function `example(data.table)` after loading the `data.table` library into R, and\n",
    "* Andrew Brooks' great blog post on [Advanced Tips and Tricks with data.table](https://brooksandrew.github.io/simpleblog/articles/advanced-data-table/)"
   ]
  },
  {
   "cell_type": "markdown",
   "metadata": {},
   "source": [
    "# Basics of data.table \n",
    "We'll start our demo with a simple data set that reflects as much richness as we'll need. Later, we'll generate much larger data sets to demonstrate the considerable speed advantages of data.table over data.frame methods.\n",
    "\n",
    "Note that the data.frame \"DF\" and data.table \"DT\" have exactly parallel structure as displayed here. In R, their printed representations will differ slightly, where DT has a smarter printout, showing both head and tail rows, and field names printed at the bottom of the table for easier reference."
   ]
  },
  {
   "cell_type": "code",
   "execution_count": 1,
   "metadata": {
    "collapsed": false
   },
   "outputs": [
    {
     "data": {
      "text/html": [
       "<table>\n",
       "<thead><tr><th></th><th scope=col>id</th><th scope=col>prog</th><th scope=col>sch</th><th scope=col>gender</th><th scope=col>score</th></tr></thead>\n",
       "<tbody>\n",
       "\t<tr><th scope=row>1</th><td>1</td><td>A</td><td>North</td><td>F</td><td>0.06739996</td></tr>\n",
       "\t<tr><th scope=row>2</th><td>2</td><td>A</td><td>South</td><td>F</td><td>0.9206563</td></tr>\n",
       "\t<tr><th scope=row>3</th><td>3</td><td>A</td><td>North</td><td>F</td><td>0.6910774</td></tr>\n",
       "\t<tr><th scope=row>4</th><td>4</td><td>A</td><td>South</td><td>F</td><td>0.04123674</td></tr>\n",
       "\t<tr><th scope=row>5</th><td>5</td><td>B</td><td>North</td><td>M</td><td>0.8092121</td></tr>\n",
       "\t<tr><th scope=row>6</th><td>6</td><td>B</td><td>South</td><td>M</td><td>0.106991</td></tr>\n",
       "\t<tr><th scope=row>7</th><td>7</td><td>B</td><td>North</td><td>M</td><td>0.4896426</td></tr>\n",
       "\t<tr><th scope=row>8</th><td>8</td><td>B</td><td>South</td><td>M</td><td>0.05879476</td></tr>\n",
       "\t<tr><th scope=row>9</th><td>9</td><td>None</td><td>North</td><td>F</td><td>0.2349503</td></tr>\n",
       "\t<tr><th scope=row>10</th><td>10</td><td>None</td><td>South</td><td>M</td><td>0.362945</td></tr>\n",
       "\t<tr><th scope=row>11</th><td>11</td><td>None</td><td>North</td><td>F</td><td>0.8463468</td></tr>\n",
       "\t<tr><th scope=row>12</th><td>12</td><td>None</td><td>South</td><td>M</td><td>0.8863718</td></tr>\n",
       "</tbody>\n",
       "</table>\n"
      ],
      "text/latex": [
       "\\begin{tabular}{r|lllll}\n",
       "  & id & prog & sch & gender & score\\\\\n",
       "\\hline\n",
       "\t1 & 1 & A & North & F & 0.06739996\\\\\n",
       "\t2 & 2 & A & South & F & 0.9206563\\\\\n",
       "\t3 & 3 & A & North & F & 0.6910774\\\\\n",
       "\t4 & 4 & A & South & F & 0.04123674\\\\\n",
       "\t5 & 5 & B & North & M & 0.8092121\\\\\n",
       "\t6 & 6 & B & South & M & 0.106991\\\\\n",
       "\t7 & 7 & B & North & M & 0.4896426\\\\\n",
       "\t8 & 8 & B & South & M & 0.05879476\\\\\n",
       "\t9 & 9 & None & North & F & 0.2349503\\\\\n",
       "\t10 & 10 & None & South & M & 0.362945\\\\\n",
       "\t11 & 11 & None & North & F & 0.8463468\\\\\n",
       "\t12 & 12 & None & South & M & 0.8863718\\\\\n",
       "\\end{tabular}\n"
      ],
      "text/plain": [
       "   id prog   sch gender      score\n",
       "1   1    A North      F 0.06739996\n",
       "2   2    A South      F 0.92065630\n",
       "3   3    A North      F 0.69107737\n",
       "4   4    A South      F 0.04123674\n",
       "5   5    B North      M 0.80921214\n",
       "6   6    B South      M 0.10699104\n",
       "7   7    B North      M 0.48964260\n",
       "8   8    B South      M 0.05879476\n",
       "9   9 None North      F 0.23495028\n",
       "10 10 None South      M 0.36294500\n",
       "11 11 None North      F 0.84634683\n",
       "12 12 None South      M 0.88637177"
      ]
     },
     "execution_count": 1,
     "metadata": {},
     "output_type": "execute_result"
    },
    {
     "data": {
      "text/html": [
       "<table>\n",
       "<thead><tr><th></th><th scope=col>id</th><th scope=col>prog</th><th scope=col>sch</th><th scope=col>gender</th><th scope=col>score</th></tr></thead>\n",
       "<tbody>\n",
       "\t<tr><th scope=row>1</th><td>1</td><td>A</td><td>North</td><td>F</td><td>0.06739996</td></tr>\n",
       "\t<tr><th scope=row>2</th><td>2</td><td>A</td><td>South</td><td>F</td><td>0.9206563</td></tr>\n",
       "\t<tr><th scope=row>3</th><td>3</td><td>A</td><td>North</td><td>F</td><td>0.6910774</td></tr>\n",
       "\t<tr><th scope=row>4</th><td>4</td><td>A</td><td>South</td><td>F</td><td>0.04123674</td></tr>\n",
       "\t<tr><th scope=row>5</th><td>5</td><td>B</td><td>North</td><td>M</td><td>0.8092121</td></tr>\n",
       "\t<tr><th scope=row>6</th><td>6</td><td>B</td><td>South</td><td>M</td><td>0.106991</td></tr>\n",
       "\t<tr><th scope=row>7</th><td>7</td><td>B</td><td>North</td><td>M</td><td>0.4896426</td></tr>\n",
       "\t<tr><th scope=row>8</th><td>8</td><td>B</td><td>South</td><td>M</td><td>0.05879476</td></tr>\n",
       "\t<tr><th scope=row>9</th><td>9</td><td>None</td><td>North</td><td>F</td><td>0.2349503</td></tr>\n",
       "\t<tr><th scope=row>10</th><td>10</td><td>None</td><td>South</td><td>M</td><td>0.362945</td></tr>\n",
       "\t<tr><th scope=row>11</th><td>11</td><td>None</td><td>North</td><td>F</td><td>0.8463468</td></tr>\n",
       "\t<tr><th scope=row>12</th><td>12</td><td>None</td><td>South</td><td>M</td><td>0.8863718</td></tr>\n",
       "</tbody>\n",
       "</table>\n"
      ],
      "text/latex": [
       "\\begin{tabular}{r|lllll}\n",
       "  & id & prog & sch & gender & score\\\\\n",
       "\\hline\n",
       "\t1 & 1 & A & North & F & 0.06739996\\\\\n",
       "\t2 & 2 & A & South & F & 0.9206563\\\\\n",
       "\t3 & 3 & A & North & F & 0.6910774\\\\\n",
       "\t4 & 4 & A & South & F & 0.04123674\\\\\n",
       "\t5 & 5 & B & North & M & 0.8092121\\\\\n",
       "\t6 & 6 & B & South & M & 0.106991\\\\\n",
       "\t7 & 7 & B & North & M & 0.4896426\\\\\n",
       "\t8 & 8 & B & South & M & 0.05879476\\\\\n",
       "\t9 & 9 & None & North & F & 0.2349503\\\\\n",
       "\t10 & 10 & None & South & M & 0.362945\\\\\n",
       "\t11 & 11 & None & North & F & 0.8463468\\\\\n",
       "\t12 & 12 & None & South & M & 0.8863718\\\\\n",
       "\\end{tabular}\n"
      ],
      "text/plain": [
       "    id prog   sch gender      score\n",
       " 1:  1    A North      F 0.06739996\n",
       " 2:  2    A South      F 0.92065630\n",
       " 3:  3    A North      F 0.69107737\n",
       " 4:  4    A South      F 0.04123674\n",
       " 5:  5    B North      M 0.80921214\n",
       " 6:  6    B South      M 0.10699104\n",
       " 7:  7    B North      M 0.48964260\n",
       " 8:  8    B South      M 0.05879476\n",
       " 9:  9 None North      F 0.23495028\n",
       "10: 10 None South      M 0.36294500\n",
       "11: 11 None North      F 0.84634683\n",
       "12: 12 None South      M 0.88637177"
      ]
     },
     "execution_count": 1,
     "metadata": {},
     "output_type": "execute_result"
    }
   ],
   "source": [
    "library(data.table)\n",
    "set.seed(60637)\n",
    "DF <- data.frame(id     = 1:12,\n",
    "                 prog   = rep(c(\"A\", \"B\", \"None\"), each = 4),\n",
    "                 sch    = rep(c(\"North\", \"South\"), times = 6),\n",
    "                 gender = sample(c(\"M\", \"F\"), 12, replace = TRUE),\n",
    "                 score  = runif(12))\n",
    "DT <- data.table(DF, key = \"id,prog,sch,gender\")\n",
    "DF\n",
    "DT"
   ]
  },
  {
   "cell_type": "markdown",
   "metadata": {},
   "source": [
    "## General structure of working with data.table objects\n",
    "Whereas data.frame contents can be accessed using square brackets and references to rows and columns, i.e. `df[*row indication*, *col indication*]`, data.table contents take three arguments: `dt[i,j,by]` where:\n",
    "\n",
    "* `i` - indication of rows\n",
    "* `j` - indication/operation on columns (optional)\n",
    "* `by` - built-in ability to run operations with a subset"
   ]
  },
  {
   "cell_type": "markdown",
   "metadata": {},
   "source": [
    "## Subsetting by rows\n",
    "This works both by the familiar dt[<row subset info>.] with a comma demarcating rows vs. colums, or simply with dt[<row subset info>] with no comma."
   ]
  },
  {
   "cell_type": "code",
   "execution_count": 2,
   "metadata": {
    "collapsed": false
   },
   "outputs": [
    {
     "data": {
      "text/html": [
       "<table>\n",
       "<thead><tr><th></th><th scope=col>id</th><th scope=col>prog</th><th scope=col>sch</th><th scope=col>gender</th><th scope=col>score</th></tr></thead>\n",
       "<tbody>\n",
       "\t<tr><th scope=row>1</th><td>3</td><td>A</td><td>North</td><td>F</td><td>0.6910774</td></tr>\n",
       "\t<tr><th scope=row>2</th><td>4</td><td>A</td><td>South</td><td>F</td><td>0.04123674</td></tr>\n",
       "\t<tr><th scope=row>3</th><td>5</td><td>B</td><td>North</td><td>M</td><td>0.8092121</td></tr>\n",
       "</tbody>\n",
       "</table>\n"
      ],
      "text/latex": [
       "\\begin{tabular}{r|lllll}\n",
       "  & id & prog & sch & gender & score\\\\\n",
       "\\hline\n",
       "\t1 & 3 & A & North & F & 0.6910774\\\\\n",
       "\t2 & 4 & A & South & F & 0.04123674\\\\\n",
       "\t3 & 5 & B & North & M & 0.8092121\\\\\n",
       "\\end{tabular}\n"
      ],
      "text/plain": [
       "   id prog   sch gender      score\n",
       "1:  3    A North      F 0.69107737\n",
       "2:  4    A South      F 0.04123674\n",
       "3:  5    B North      M 0.80921214"
      ]
     },
     "execution_count": 2,
     "metadata": {},
     "output_type": "execute_result"
    }
   ],
   "source": [
    "DT[3:5,]"
   ]
  },
  {
   "cell_type": "code",
   "execution_count": 3,
   "metadata": {
    "collapsed": false
   },
   "outputs": [
    {
     "data": {
      "text/html": [
       "<table>\n",
       "<thead><tr><th></th><th scope=col>id</th><th scope=col>prog</th><th scope=col>sch</th><th scope=col>gender</th><th scope=col>score</th></tr></thead>\n",
       "<tbody>\n",
       "\t<tr><th scope=row>1</th><td>3</td><td>A</td><td>North</td><td>F</td><td>0.6910774</td></tr>\n",
       "\t<tr><th scope=row>2</th><td>4</td><td>A</td><td>South</td><td>F</td><td>0.04123674</td></tr>\n",
       "\t<tr><th scope=row>3</th><td>5</td><td>B</td><td>North</td><td>M</td><td>0.8092121</td></tr>\n",
       "</tbody>\n",
       "</table>\n"
      ],
      "text/latex": [
       "\\begin{tabular}{r|lllll}\n",
       "  & id & prog & sch & gender & score\\\\\n",
       "\\hline\n",
       "\t1 & 3 & A & North & F & 0.6910774\\\\\n",
       "\t2 & 4 & A & South & F & 0.04123674\\\\\n",
       "\t3 & 5 & B & North & M & 0.8092121\\\\\n",
       "\\end{tabular}\n"
      ],
      "text/plain": [
       "   id prog   sch gender      score\n",
       "1:  3    A North      F 0.69107737\n",
       "2:  4    A South      F 0.04123674\n",
       "3:  5    B North      M 0.80921214"
      ]
     },
     "execution_count": 3,
     "metadata": {},
     "output_type": "execute_result"
    }
   ],
   "source": [
    "DT[3:5]"
   ]
  },
  {
   "cell_type": "code",
   "execution_count": 4,
   "metadata": {
    "collapsed": false
   },
   "outputs": [
    {
     "data": {
      "text/html": [
       "<table>\n",
       "<thead><tr><th></th><th scope=col>id</th><th scope=col>prog</th><th scope=col>sch</th><th scope=col>gender</th><th scope=col>score</th></tr></thead>\n",
       "<tbody>\n",
       "\t<tr><th scope=row>1</th><td>1</td><td>A</td><td>North</td><td>F</td><td>0.06739996</td></tr>\n",
       "\t<tr><th scope=row>2</th><td>3</td><td>A</td><td>North</td><td>F</td><td>0.6910774</td></tr>\n",
       "\t<tr><th scope=row>3</th><td>5</td><td>B</td><td>North</td><td>M</td><td>0.8092121</td></tr>\n",
       "\t<tr><th scope=row>4</th><td>7</td><td>B</td><td>North</td><td>M</td><td>0.4896426</td></tr>\n",
       "\t<tr><th scope=row>5</th><td>9</td><td>None</td><td>North</td><td>F</td><td>0.2349503</td></tr>\n",
       "\t<tr><th scope=row>6</th><td>11</td><td>None</td><td>North</td><td>F</td><td>0.8463468</td></tr>\n",
       "</tbody>\n",
       "</table>\n"
      ],
      "text/latex": [
       "\\begin{tabular}{r|lllll}\n",
       "  & id & prog & sch & gender & score\\\\\n",
       "\\hline\n",
       "\t1 & 1 & A & North & F & 0.06739996\\\\\n",
       "\t2 & 3 & A & North & F & 0.6910774\\\\\n",
       "\t3 & 5 & B & North & M & 0.8092121\\\\\n",
       "\t4 & 7 & B & North & M & 0.4896426\\\\\n",
       "\t5 & 9 & None & North & F & 0.2349503\\\\\n",
       "\t6 & 11 & None & North & F & 0.8463468\\\\\n",
       "\\end{tabular}\n"
      ],
      "text/plain": [
       "   id prog   sch gender      score\n",
       "1:  1    A North      F 0.06739996\n",
       "2:  3    A North      F 0.69107737\n",
       "3:  5    B North      M 0.80921214\n",
       "4:  7    B North      M 0.48964260\n",
       "5:  9 None North      F 0.23495028\n",
       "6: 11 None North      F 0.84634683"
      ]
     },
     "execution_count": 4,
     "metadata": {},
     "output_type": "execute_result"
    }
   ],
   "source": [
    "DT[sch == \"North\"]"
   ]
  },
  {
   "cell_type": "code",
   "execution_count": 5,
   "metadata": {
    "collapsed": false
   },
   "outputs": [
    {
     "data": {
      "text/html": [
       "<table>\n",
       "<thead><tr><th></th><th scope=col>id</th><th scope=col>prog</th><th scope=col>sch</th><th scope=col>gender</th><th scope=col>score</th></tr></thead>\n",
       "<tbody>\n",
       "\t<tr><th scope=row>1</th><td>1</td><td>A</td><td>North</td><td>F</td><td>0.06739996</td></tr>\n",
       "\t<tr><th scope=row>2</th><td>2</td><td>A</td><td>South</td><td>F</td><td>0.9206563</td></tr>\n",
       "\t<tr><th scope=row>3</th><td>3</td><td>A</td><td>North</td><td>F</td><td>0.6910774</td></tr>\n",
       "\t<tr><th scope=row>4</th><td>4</td><td>A</td><td>South</td><td>F</td><td>0.04123674</td></tr>\n",
       "\t<tr><th scope=row>5</th><td>5</td><td>B</td><td>North</td><td>M</td><td>0.8092121</td></tr>\n",
       "\t<tr><th scope=row>6</th><td>6</td><td>B</td><td>South</td><td>M</td><td>0.106991</td></tr>\n",
       "\t<tr><th scope=row>7</th><td>7</td><td>B</td><td>North</td><td>M</td><td>0.4896426</td></tr>\n",
       "\t<tr><th scope=row>8</th><td>8</td><td>B</td><td>South</td><td>M</td><td>0.05879476</td></tr>\n",
       "</tbody>\n",
       "</table>\n"
      ],
      "text/latex": [
       "\\begin{tabular}{r|lllll}\n",
       "  & id & prog & sch & gender & score\\\\\n",
       "\\hline\n",
       "\t1 & 1 & A & North & F & 0.06739996\\\\\n",
       "\t2 & 2 & A & South & F & 0.9206563\\\\\n",
       "\t3 & 3 & A & North & F & 0.6910774\\\\\n",
       "\t4 & 4 & A & South & F & 0.04123674\\\\\n",
       "\t5 & 5 & B & North & M & 0.8092121\\\\\n",
       "\t6 & 6 & B & South & M & 0.106991\\\\\n",
       "\t7 & 7 & B & North & M & 0.4896426\\\\\n",
       "\t8 & 8 & B & South & M & 0.05879476\\\\\n",
       "\\end{tabular}\n"
      ],
      "text/plain": [
       "   id prog   sch gender      score\n",
       "1:  1    A North      F 0.06739996\n",
       "2:  2    A South      F 0.92065630\n",
       "3:  3    A North      F 0.69107737\n",
       "4:  4    A South      F 0.04123674\n",
       "5:  5    B North      M 0.80921214\n",
       "6:  6    B South      M 0.10699104\n",
       "7:  7    B North      M 0.48964260\n",
       "8:  8    B South      M 0.05879476"
      ]
     },
     "execution_count": 5,
     "metadata": {},
     "output_type": "execute_result"
    }
   ],
   "source": [
    "DT[prog %in% c(\"A\", \"B\")]"
   ]
  },
  {
   "cell_type": "markdown",
   "metadata": {},
   "source": [
    "## Working with data.table columns"
   ]
  },
  {
   "cell_type": "code",
   "execution_count": 6,
   "metadata": {
    "collapsed": false
   },
   "outputs": [
    {
     "data": {
      "text/html": [
       "\"sch\""
      ],
      "text/latex": [
       "\"sch\""
      ],
      "text/markdown": [
       "\"sch\""
      ],
      "text/plain": [
       "[1] \"sch\""
      ]
     },
     "execution_count": 6,
     "metadata": {},
     "output_type": "execute_result"
    },
    {
     "data": {
      "text/html": [
       "<ol class=list-inline>\n",
       "\t<li>North</li>\n",
       "\t<li>South</li>\n",
       "\t<li>North</li>\n",
       "\t<li>South</li>\n",
       "\t<li>North</li>\n",
       "\t<li>South</li>\n",
       "\t<li>North</li>\n",
       "\t<li>South</li>\n",
       "\t<li>North</li>\n",
       "\t<li>South</li>\n",
       "\t<li>North</li>\n",
       "\t<li>South</li>\n",
       "</ol>\n"
      ],
      "text/latex": [
       "\\begin{enumerate*}\n",
       "\\item North\n",
       "\\item South\n",
       "\\item North\n",
       "\\item South\n",
       "\\item North\n",
       "\\item South\n",
       "\\item North\n",
       "\\item South\n",
       "\\item North\n",
       "\\item South\n",
       "\\item North\n",
       "\\item South\n",
       "\\end{enumerate*}\n"
      ],
      "text/markdown": [
       "1. North\n",
       "2. South\n",
       "3. North\n",
       "4. South\n",
       "5. North\n",
       "6. South\n",
       "7. North\n",
       "8. South\n",
       "9. North\n",
       "10. South\n",
       "11. North\n",
       "12. South\n",
       "\n",
       "\n"
      ],
      "text/plain": [
       " [1] North South North South North South North South North South North South\n",
       "Levels: North South"
      ]
     },
     "execution_count": 6,
     "metadata": {},
     "output_type": "execute_result"
    }
   ],
   "source": [
    "# Referencing columns in data.table is also just a bit different than for data.frames.\n",
    "# Rather than refering to column titles using their names, stored as a string, you\n",
    "# refer to them using the unquoted name of the column. Think about this as similar to\n",
    "# e.g. subset(), aggregate(), or within() functions, where you indicate the name\n",
    "# of the data.frame and then are within the \"environment\" of that data.frame and\n",
    "# can reference names of the columns directly, as if there were objects in the global\n",
    "# environment.\n",
    "DT[, \"sch\"]\n",
    "DT[, sch]"
   ]
  },
  {
   "cell_type": "code",
   "execution_count": 7,
   "metadata": {
    "collapsed": false
   },
   "outputs": [
    {
     "data": {
      "text/html": [
       "<ol class=list-inline>\n",
       "\t<li>North</li>\n",
       "\t<li>South</li>\n",
       "\t<li>North</li>\n",
       "\t<li>South</li>\n",
       "\t<li>North</li>\n",
       "\t<li>South</li>\n",
       "\t<li>North</li>\n",
       "\t<li>South</li>\n",
       "\t<li>North</li>\n",
       "\t<li>South</li>\n",
       "\t<li>North</li>\n",
       "\t<li>South</li>\n",
       "</ol>\n"
      ],
      "text/latex": [
       "\\begin{enumerate*}\n",
       "\\item North\n",
       "\\item South\n",
       "\\item North\n",
       "\\item South\n",
       "\\item North\n",
       "\\item South\n",
       "\\item North\n",
       "\\item South\n",
       "\\item North\n",
       "\\item South\n",
       "\\item North\n",
       "\\item South\n",
       "\\end{enumerate*}\n"
      ],
      "text/markdown": [
       "1. North\n",
       "2. South\n",
       "3. North\n",
       "4. South\n",
       "5. North\n",
       "6. South\n",
       "7. North\n",
       "8. South\n",
       "9. North\n",
       "10. South\n",
       "11. North\n",
       "12. South\n",
       "\n",
       "\n"
      ],
      "text/plain": [
       " [1] North South North South North South North South North South North South\n",
       "Levels: North South"
      ]
     },
     "execution_count": 7,
     "metadata": {},
     "output_type": "execute_result"
    }
   ],
   "source": [
    "# However you can still reference columns by string by using the get() function, whose (helpful!) job it\n",
    "# it is to take the name of an object, stored as a string, and fetch you the object itself.\n",
    "DT[, get(\"sch\")]"
   ]
  },
  {
   "cell_type": "code",
   "execution_count": 8,
   "metadata": {
    "collapsed": false
   },
   "outputs": [
    {
     "data": {
      "text/html": [
       "<table>\n",
       "<thead><tr><th></th><th scope=col>id</th><th scope=col>sch</th></tr></thead>\n",
       "<tbody>\n",
       "\t<tr><th scope=row>1</th><td>1</td><td>North</td></tr>\n",
       "\t<tr><th scope=row>2</th><td>2</td><td>South</td></tr>\n",
       "\t<tr><th scope=row>3</th><td>3</td><td>North</td></tr>\n",
       "</tbody>\n",
       "</table>\n"
      ],
      "text/latex": [
       "\\begin{tabular}{r|ll}\n",
       "  & id & sch\\\\\n",
       "\\hline\n",
       "\t1 & 1 & North\\\\\n",
       "\t2 & 2 & South\\\\\n",
       "\t3 & 3 & North\\\\\n",
       "\\end{tabular}\n"
      ],
      "text/plain": [
       "   id   sch\n",
       "1:  1 North\n",
       "2:  2 South\n",
       "3:  3 North"
      ]
     },
     "execution_count": 8,
     "metadata": {},
     "output_type": "execute_result"
    },
    {
     "data": {
      "text/html": [
       "<table>\n",
       "<thead><tr><th></th><th scope=col>id</th><th scope=col>sch</th></tr></thead>\n",
       "<tbody>\n",
       "\t<tr><th scope=row>1</th><td>1</td><td>North</td></tr>\n",
       "\t<tr><th scope=row>2</th><td>2</td><td>South</td></tr>\n",
       "\t<tr><th scope=row>3</th><td>3</td><td>North</td></tr>\n",
       "</tbody>\n",
       "</table>\n"
      ],
      "text/latex": [
       "\\begin{tabular}{r|ll}\n",
       "  & id & sch\\\\\n",
       "\\hline\n",
       "\t1 & 1 & North\\\\\n",
       "\t2 & 2 & South\\\\\n",
       "\t3 & 3 & North\\\\\n",
       "\\end{tabular}\n"
      ],
      "text/plain": [
       "   id   sch\n",
       "1:  1 North\n",
       "2:  2 South\n",
       "3:  3 North"
      ]
     },
     "execution_count": 8,
     "metadata": {},
     "output_type": "execute_result"
    }
   ],
   "source": [
    "# Additionally, think of groups of columns as lists\n",
    "DT[1:3, list(id, sch)]\n",
    "# And note that \".()\" is shorthand for \"list()\"\n",
    "DT[1:3, .(id, sch)]"
   ]
  },
  {
   "cell_type": "code",
   "execution_count": 9,
   "metadata": {
    "collapsed": false
   },
   "outputs": [
    {
     "data": {
      "text/html": [
       "<dl>\n",
       "\t<dt>$id</dt>\n",
       "\t\t<dd>\"integer\"</dd>\n",
       "\t<dt>$prog</dt>\n",
       "\t\t<dd>\"factor\"</dd>\n",
       "\t<dt>$sch</dt>\n",
       "\t\t<dd>\"factor\"</dd>\n",
       "\t<dt>$gender</dt>\n",
       "\t\t<dd>\"factor\"</dd>\n",
       "\t<dt>$score</dt>\n",
       "\t\t<dd>\"numeric\"</dd>\n",
       "</dl>\n"
      ],
      "text/latex": [
       "\\begin{description}\n",
       "\\item[\\$id] \"integer\"\n",
       "\\item[\\$prog] \"factor\"\n",
       "\\item[\\$sch] \"factor\"\n",
       "\\item[\\$gender] \"factor\"\n",
       "\\item[\\$score] \"numeric\"\n",
       "\\end{description}\n"
      ],
      "text/markdown": [
       "$id\n",
       ":   \"integer\"\n",
       "$prog\n",
       ":   \"factor\"\n",
       "$sch\n",
       ":   \"factor\"\n",
       "$gender\n",
       ":   \"factor\"\n",
       "$score\n",
       ":   \"numeric\"\n",
       "\n",
       "\n"
      ],
      "text/plain": [
       "$id\n",
       "[1] \"integer\"\n",
       "\n",
       "$prog\n",
       "[1] \"factor\"\n",
       "\n",
       "$sch\n",
       "[1] \"factor\"\n",
       "\n",
       "$gender\n",
       "[1] \"factor\"\n",
       "\n",
       "$score\n",
       "[1] \"numeric\"\n"
      ]
     },
     "execution_count": 9,
     "metadata": {},
     "output_type": "execute_result"
    }
   ],
   "source": [
    "# (Indeed, it may be interesting to know that data.frames are constructed as a special\n",
    "#  type of list, where each list element is of exactly the same length. The fact that \n",
    "#  lists can have contents of totally different types is what lets columns of data.frames\n",
    "#  have columns of different data types, unlike matrices which are also 2x2 tables but which\n",
    "#  can only have elements of the same (numeric) types.)\n",
    "# For example, the following command loops through DF's columns since, as a data.frame/list, its\n",
    "# base elements are the columns. \n",
    "lapply(DF, function(x) class(x))"
   ]
  },
  {
   "cell_type": "code",
   "execution_count": 10,
   "metadata": {
    "collapsed": false
   },
   "outputs": [
    {
     "data": {
      "text/html": [
       "0.459635399476004"
      ],
      "text/latex": [
       "0.459635399476004"
      ],
      "text/markdown": [
       "0.459635399476004"
      ],
      "text/plain": [
       "[1] 0.4596354"
      ]
     },
     "execution_count": 10,
     "metadata": {},
     "output_type": "execute_result"
    }
   ],
   "source": [
    "DT[, mean(score)]"
   ]
  },
  {
   "cell_type": "code",
   "execution_count": 11,
   "metadata": {
    "collapsed": false
   },
   "outputs": [
    {
     "data": {
      "text/html": [
       "<table>\n",
       "<thead><tr><th></th><th scope=col>V1</th><th scope=col>V2</th></tr></thead>\n",
       "<tbody>\n",
       "\t<tr><th scope=row>1</th><td>0.4596354</td><td>5.515625</td></tr>\n",
       "</tbody>\n",
       "</table>\n"
      ],
      "text/latex": [
       "\\begin{tabular}{r|ll}\n",
       "  & V1 & V2\\\\\n",
       "\\hline\n",
       "\t1 & 0.4596354 & 5.515625\\\\\n",
       "\\end{tabular}\n"
      ],
      "text/plain": [
       "          V1       V2\n",
       "1: 0.4596354 5.515625"
      ]
     },
     "execution_count": 11,
     "metadata": {},
     "output_type": "execute_result"
    }
   ],
   "source": [
    "DT[, .(mean(score), sum(score))]"
   ]
  },
  {
   "cell_type": "code",
   "execution_count": 12,
   "metadata": {
    "collapsed": false
   },
   "outputs": [
    {
     "data": {
      "text/html": [
       "<table>\n",
       "<thead><tr><th></th><th scope=col>mean_score</th><th scope=col>sum_score</th></tr></thead>\n",
       "<tbody>\n",
       "\t<tr><th scope=row>1</th><td>0.4596354</td><td>5.515625</td></tr>\n",
       "</tbody>\n",
       "</table>\n"
      ],
      "text/latex": [
       "\\begin{tabular}{r|ll}\n",
       "  & mean_score & sum_score\\\\\n",
       "\\hline\n",
       "\t1 & 0.4596354 & 5.515625\\\\\n",
       "\\end{tabular}\n"
      ],
      "text/plain": [
       "   mean_score sum_score\n",
       "1:  0.4596354  5.515625"
      ]
     },
     "execution_count": 12,
     "metadata": {},
     "output_type": "execute_result"
    }
   ],
   "source": [
    "DT[, .(mean_score = mean(score), sum_score = sum(score))]"
   ]
  },
  {
   "cell_type": "markdown",
   "metadata": {},
   "source": [
    "(Need to talk about ```:=``` as its own operation that generates an assignment within the data table)"
   ]
  },
  {
   "cell_type": "code",
   "execution_count": 13,
   "metadata": {
    "collapsed": false
   },
   "outputs": [
    {
     "data": {
      "text/html": [
       "<table>\n",
       "<thead><tr><th></th><th scope=col>id</th><th scope=col>score</th><th scope=col>mean_score</th></tr></thead>\n",
       "<tbody>\n",
       "\t<tr><th scope=row>1</th><td>1</td><td>0.06739996</td><td>0.5597112</td></tr>\n",
       "\t<tr><th scope=row>2</th><td>2</td><td>0.9206563</td><td>0.5597112</td></tr>\n",
       "\t<tr><th scope=row>3</th><td>3</td><td>0.6910774</td><td>0.5597112</td></tr>\n",
       "</tbody>\n",
       "</table>\n"
      ],
      "text/latex": [
       "\\begin{tabular}{r|lll}\n",
       "  & id & score & mean_score\\\\\n",
       "\\hline\n",
       "\t1 & 1 & 0.06739996 & 0.5597112\\\\\n",
       "\t2 & 2 & 0.9206563 & 0.5597112\\\\\n",
       "\t3 & 3 & 0.6910774 & 0.5597112\\\\\n",
       "\\end{tabular}\n"
      ],
      "text/plain": [
       "   id      score mean_score\n",
       "1:  1 0.06739996  0.5597112\n",
       "2:  2 0.92065630  0.5597112\n",
       "3:  3 0.69107737  0.5597112"
      ]
     },
     "execution_count": 13,
     "metadata": {},
     "output_type": "execute_result"
    }
   ],
   "source": [
    "DT[1:3, .(id, score, mean_score = mean(score))]"
   ]
  },
  {
   "cell_type": "code",
   "execution_count": 14,
   "metadata": {
    "collapsed": false
   },
   "outputs": [
    {
     "name": "stdout",
     "output_type": "stream",
     "text": [
      " [1] 0.06739996 0.92065630 0.69107737 0.04123674 0.80921214 0.10699104\n",
      " [7] 0.48964260 0.05879476 0.23495028 0.36294500 0.84634683 0.88637177\n"
     ]
    },
    {
     "data": {
      "text/plain": [
       "NULL"
      ]
     },
     "execution_count": 14,
     "metadata": {},
     "output_type": "execute_result"
    },
    {
     "data": {
      "application/pdf": "[encoded data removed]",
      "image/jpeg": "[encoded data removed]",
      "image/png": "[encoded data removed]",
      "text/plain": [
       "Plot with title \"Histogram of score\""
      ]
     },
     "metadata": {
      "image/svg+xml": {
       "isolated": true
      }
     },
     "output_type": "display_data"
    }
   ],
   "source": [
    "# Can even run multiple commands from within the DT environment using curly braces\n",
    "DT[, {print(score)\n",
    "      hist(score)$histogram\n",
    "      }]"
   ]
  },
  {
   "cell_type": "markdown",
   "metadata": {},
   "source": [
    "# Working with \"by\"s"
   ]
  },
  {
   "cell_type": "code",
   "execution_count": 15,
   "metadata": {
    "collapsed": false
   },
   "outputs": [
    {
     "data": {
      "text/html": [
       "<table>\n",
       "<thead><tr><th></th><th scope=col>prog</th><th scope=col>mean_score</th></tr></thead>\n",
       "<tbody>\n",
       "\t<tr><th scope=row>1</th><td>A</td><td>0.4300926</td></tr>\n",
       "\t<tr><th scope=row>2</th><td>B</td><td>0.3661601</td></tr>\n",
       "\t<tr><th scope=row>3</th><td>None</td><td>0.5826535</td></tr>\n",
       "</tbody>\n",
       "</table>\n"
      ],
      "text/latex": [
       "\\begin{tabular}{r|ll}\n",
       "  & prog & mean_score\\\\\n",
       "\\hline\n",
       "\t1 & A & 0.4300926\\\\\n",
       "\t2 & B & 0.3661601\\\\\n",
       "\t3 & None & 0.5826535\\\\\n",
       "\\end{tabular}\n"
      ],
      "text/plain": [
       "   prog mean_score\n",
       "1:    A  0.4300926\n",
       "2:    B  0.3661601\n",
       "3: None  0.5826535"
      ]
     },
     "execution_count": 15,
     "metadata": {},
     "output_type": "execute_result"
    }
   ],
   "source": [
    "# Can specify the \"by\" using a character string...\n",
    "DT[, .(mean_score = mean(score)), by = \"prog\"]"
   ]
  },
  {
   "cell_type": "code",
   "execution_count": 16,
   "metadata": {
    "collapsed": false
   },
   "outputs": [
    {
     "data": {
      "text/html": [
       "<table>\n",
       "<thead><tr><th></th><th scope=col>prog</th><th scope=col>mean_score</th></tr></thead>\n",
       "<tbody>\n",
       "\t<tr><th scope=row>1</th><td>A</td><td>0.4300926</td></tr>\n",
       "\t<tr><th scope=row>2</th><td>B</td><td>0.3661601</td></tr>\n",
       "\t<tr><th scope=row>3</th><td>None</td><td>0.5826535</td></tr>\n",
       "</tbody>\n",
       "</table>\n"
      ],
      "text/latex": [
       "\\begin{tabular}{r|ll}\n",
       "  & prog & mean_score\\\\\n",
       "\\hline\n",
       "\t1 & A & 0.4300926\\\\\n",
       "\t2 & B & 0.3661601\\\\\n",
       "\t3 & None & 0.5826535\\\\\n",
       "\\end{tabular}\n"
      ],
      "text/plain": [
       "   prog mean_score\n",
       "1:    A  0.4300926\n",
       "2:    B  0.3661601\n",
       "3: None  0.5826535"
      ]
     },
     "execution_count": 16,
     "metadata": {},
     "output_type": "execute_result"
    }
   ],
   "source": [
    "# ... or as a column object within the data.table object \n",
    "DT[, .(mean_score = mean(score)), by = prog]"
   ]
  },
  {
   "cell_type": "code",
   "execution_count": 17,
   "metadata": {
    "collapsed": false
   },
   "outputs": [
    {
     "data": {
      "text/html": [
       "<table>\n",
       "<thead><tr><th></th><th scope=col>prog</th><th scope=col>sch</th><th scope=col>mean_score</th></tr></thead>\n",
       "<tbody>\n",
       "\t<tr><th scope=row>1</th><td>A</td><td>North</td><td>0.3792387</td></tr>\n",
       "\t<tr><th scope=row>2</th><td>A</td><td>South</td><td>0.4809465</td></tr>\n",
       "\t<tr><th scope=row>3</th><td>B</td><td>North</td><td>0.6494274</td></tr>\n",
       "\t<tr><th scope=row>4</th><td>B</td><td>South</td><td>0.0828929</td></tr>\n",
       "\t<tr><th scope=row>5</th><td>None</td><td>North</td><td>0.5406486</td></tr>\n",
       "\t<tr><th scope=row>6</th><td>None</td><td>South</td><td>0.6246584</td></tr>\n",
       "</tbody>\n",
       "</table>\n"
      ],
      "text/latex": [
       "\\begin{tabular}{r|lll}\n",
       "  & prog & sch & mean_score\\\\\n",
       "\\hline\n",
       "\t1 & A & North & 0.3792387\\\\\n",
       "\t2 & A & South & 0.4809465\\\\\n",
       "\t3 & B & North & 0.6494274\\\\\n",
       "\t4 & B & South & 0.0828929\\\\\n",
       "\t5 & None & North & 0.5406486\\\\\n",
       "\t6 & None & South & 0.6246584\\\\\n",
       "\\end{tabular}\n"
      ],
      "text/plain": [
       "   prog   sch mean_score\n",
       "1:    A North  0.3792387\n",
       "2:    A South  0.4809465\n",
       "3:    B North  0.6494274\n",
       "4:    B South  0.0828929\n",
       "5: None North  0.5406486\n",
       "6: None South  0.6246584"
      ]
     },
     "execution_count": 17,
     "metadata": {},
     "output_type": "execute_result"
    }
   ],
   "source": [
    "# Can do multiple \"by\"s with a string, separating by commas\n",
    "DT[, .(mean_score = mean(score)), by = \"prog,sch\"]"
   ]
  },
  {
   "cell_type": "code",
   "execution_count": 18,
   "metadata": {
    "collapsed": false
   },
   "outputs": [
    {
     "data": {
      "text/html": [
       "<table>\n",
       "<thead><tr><th></th><th scope=col>prog</th><th scope=col>sch</th><th scope=col>mean_score</th></tr></thead>\n",
       "<tbody>\n",
       "\t<tr><th scope=row>1</th><td>A</td><td>North</td><td>0.3792387</td></tr>\n",
       "\t<tr><th scope=row>2</th><td>A</td><td>South</td><td>0.4809465</td></tr>\n",
       "\t<tr><th scope=row>3</th><td>B</td><td>North</td><td>0.6494274</td></tr>\n",
       "\t<tr><th scope=row>4</th><td>B</td><td>South</td><td>0.0828929</td></tr>\n",
       "\t<tr><th scope=row>5</th><td>None</td><td>North</td><td>0.5406486</td></tr>\n",
       "\t<tr><th scope=row>6</th><td>None</td><td>South</td><td>0.6246584</td></tr>\n",
       "</tbody>\n",
       "</table>\n"
      ],
      "text/latex": [
       "\\begin{tabular}{r|lll}\n",
       "  & prog & sch & mean_score\\\\\n",
       "\\hline\n",
       "\t1 & A & North & 0.3792387\\\\\n",
       "\t2 & A & South & 0.4809465\\\\\n",
       "\t3 & B & North & 0.6494274\\\\\n",
       "\t4 & B & South & 0.0828929\\\\\n",
       "\t5 & None & North & 0.5406486\\\\\n",
       "\t6 & None & South & 0.6246584\\\\\n",
       "\\end{tabular}\n"
      ],
      "text/plain": [
       "   prog   sch mean_score\n",
       "1:    A North  0.3792387\n",
       "2:    A South  0.4809465\n",
       "3:    B North  0.6494274\n",
       "4:    B South  0.0828929\n",
       "5: None North  0.5406486\n",
       "6: None South  0.6246584"
      ]
     },
     "execution_count": 18,
     "metadata": {},
     "output_type": "execute_result"
    }
   ],
   "source": [
    "# Can do multiple \"by\"s with column object references, using list syntax (i.e. the \".()\")\n",
    "DT[, .(mean_score = mean(score)), by = .(prog,sch)]"
   ]
  },
  {
   "cell_type": "code",
   "execution_count": 19,
   "metadata": {
    "collapsed": false
   },
   "outputs": [
    {
     "data": {
      "text/html": [
       "<table>\n",
       "<thead><tr><th></th><th scope=col>any_prog</th><th scope=col>mean_score</th></tr></thead>\n",
       "<tbody>\n",
       "\t<tr><th scope=row>1</th><td>TRUE</td><td>0.3981264</td></tr>\n",
       "\t<tr><th scope=row>2</th><td>FALSE</td><td>0.5826535</td></tr>\n",
       "</tbody>\n",
       "</table>\n"
      ],
      "text/latex": [
       "\\begin{tabular}{r|ll}\n",
       "  & any_prog & mean_score\\\\\n",
       "\\hline\n",
       "\t1 & TRUE & 0.3981264\\\\\n",
       "\t2 & FALSE & 0.5826535\\\\\n",
       "\\end{tabular}\n"
      ],
      "text/plain": [
       "   any_prog mean_score\n",
       "1:     TRUE  0.3981264\n",
       "2:    FALSE  0.5826535"
      ]
     },
     "execution_count": 19,
     "metadata": {},
     "output_type": "execute_result"
    }
   ],
   "source": [
    "# Just like with columns, we can generate \"by\" information on the fly\n",
    "DT[, .(mean_score = mean(score)), by = .(any_prog = prog %in% c(\"A\", \"B\"))]"
   ]
  },
  {
   "cell_type": "code",
   "execution_count": 20,
   "metadata": {
    "collapsed": false
   },
   "outputs": [
    {
     "data": {
      "text/html": [
       "<table>\n",
       "<thead><tr><th></th><th scope=col>gender</th><th scope=col>mean_score</th><th scope=col>N</th></tr></thead>\n",
       "<tbody>\n",
       "\t<tr><th scope=row>1</th><td>F</td><td>0.4599436</td><td>4</td></tr>\n",
       "\t<tr><th scope=row>2</th><td>M</td><td>0.6494274</td><td>2</td></tr>\n",
       "</tbody>\n",
       "</table>\n"
      ],
      "text/latex": [
       "\\begin{tabular}{r|lll}\n",
       "  & gender & mean_score & N\\\\\n",
       "\\hline\n",
       "\t1 & F & 0.4599436 & 4\\\\\n",
       "\t2 & M & 0.6494274 & 2\\\\\n",
       "\\end{tabular}\n"
      ],
      "text/plain": [
       "   gender mean_score N\n",
       "1:      F  0.4599436 4\n",
       "2:      M  0.6494274 2"
      ]
     },
     "execution_count": 20,
     "metadata": {},
     "output_type": "execute_result"
    }
   ],
   "source": [
    "# Subset and then perform \"by\" calculations\n",
    "DT[sch == \"North\", .(mean_score = mean(score), N = .N), by = \"gender\"]"
   ]
  },
  {
   "cell_type": "markdown",
   "metadata": {},
   "source": [
    "# Working with special values\n",
    "E.g. \".N\", \".I\", \".GRP\", \".SD\" and others"
   ]
  },
  {
   "cell_type": "code",
   "execution_count": 21,
   "metadata": {
    "collapsed": false
   },
   "outputs": [
    {
     "data": {
      "text/html": [
       "<table>\n",
       "<thead><tr><th></th><th scope=col>gender</th><th scope=col>count</th><th scope=col>group</th></tr></thead>\n",
       "<tbody>\n",
       "\t<tr><th scope=row>1</th><td>F</td><td>6</td><td>1</td></tr>\n",
       "\t<tr><th scope=row>2</th><td>M</td><td>6</td><td>2</td></tr>\n",
       "</tbody>\n",
       "</table>\n"
      ],
      "text/latex": [
       "\\begin{tabular}{r|lll}\n",
       "  & gender & count & group\\\\\n",
       "\\hline\n",
       "\t1 & F & 6 & 1\\\\\n",
       "\t2 & M & 6 & 2\\\\\n",
       "\\end{tabular}\n"
      ],
      "text/plain": [
       "   gender count group\n",
       "1:      F     6     1\n",
       "2:      M     6     2"
      ]
     },
     "execution_count": 21,
     "metadata": {},
     "output_type": "execute_result"
    }
   ],
   "source": [
    "# Using .N for group counts\n",
    "DT[, .(count = .N, group = .GRP), by = \"gender\"]"
   ]
  },
  {
   "cell_type": "markdown",
   "metadata": {},
   "source": [
    "## Using .SD to perform operations across many columns\n",
    "`.SD` is shorthand for all of the columns besides those used in the \"by\". Subsets of those columns can be determined by adding a argument of `.SDcols` within the data.table statement."
   ]
  },
  {
   "cell_type": "code",
   "execution_count": 22,
   "metadata": {
    "collapsed": false
   },
   "outputs": [
    {
     "data": {
      "text/html": [
       "<table>\n",
       "<thead><tr><th></th><th scope=col>cat</th><th scope=col>score1</th><th scope=col>score2</th><th scope=col>score3</th></tr></thead>\n",
       "<tbody>\n",
       "\t<tr><th scope=row>1</th><td>A</td><td>0.4649029</td><td>-0.02409428</td><td>0.4661274</td></tr>\n",
       "\t<tr><th scope=row>2</th><td>C</td><td>0.4925664</td><td>0.04642162</td><td>0.453456</td></tr>\n",
       "\t<tr><th scope=row>3</th><td>B</td><td>0.5717518</td><td>0.07706304</td><td>-0.005196022</td></tr>\n",
       "</tbody>\n",
       "</table>\n"
      ],
      "text/latex": [
       "\\begin{tabular}{r|llll}\n",
       "  & cat & score1 & score2 & score3\\\\\n",
       "\\hline\n",
       "\t1 & A & 0.4649029 & -0.02409428 & 0.4661274\\\\\n",
       "\t2 & C & 0.4925664 & 0.04642162 & 0.453456\\\\\n",
       "\t3 & B & 0.5717518 & 0.07706304 & -0.005196022\\\\\n",
       "\\end{tabular}\n"
      ],
      "text/plain": [
       "   cat    score1      score2       score3\n",
       "1:   A 0.4649029 -0.02409428  0.466127429\n",
       "2:   C 0.4925664  0.04642162  0.453456043\n",
       "3:   B 0.5717518  0.07706304 -0.005196022"
      ]
     },
     "execution_count": 22,
     "metadata": {},
     "output_type": "execute_result"
    },
    {
     "data": {
      "text/html": [
       "<table>\n",
       "<thead><tr><th></th><th scope=col>cat</th><th scope=col>score2</th><th scope=col>score3</th></tr></thead>\n",
       "<tbody>\n",
       "\t<tr><th scope=row>1</th><td>A</td><td>-0.02409428</td><td>0.4661274</td></tr>\n",
       "\t<tr><th scope=row>2</th><td>C</td><td>0.04642162</td><td>0.453456</td></tr>\n",
       "\t<tr><th scope=row>3</th><td>B</td><td>0.07706304</td><td>-0.005196022</td></tr>\n",
       "</tbody>\n",
       "</table>\n"
      ],
      "text/latex": [
       "\\begin{tabular}{r|lll}\n",
       "  & cat & score2 & score3\\\\\n",
       "\\hline\n",
       "\t1 & A & -0.02409428 & 0.4661274\\\\\n",
       "\t2 & C & 0.04642162 & 0.453456\\\\\n",
       "\t3 & B & 0.07706304 & -0.005196022\\\\\n",
       "\\end{tabular}\n"
      ],
      "text/plain": [
       "   cat      score2       score3\n",
       "1:   A -0.02409428  0.466127429\n",
       "2:   C  0.04642162  0.453456043\n",
       "3:   B  0.07706304 -0.005196022"
      ]
     },
     "execution_count": 22,
     "metadata": {},
     "output_type": "execute_result"
    }
   ],
   "source": [
    "n <- 100\n",
    "scores <- data.frame(cat = sample(LETTERS[1:3], n, replace = TRUE), score1 = runif(n), score2 = rnorm(n), score3 = rlogis(n))\n",
    "dtScores <- data.table(scores)\n",
    "dtScores[,lapply(.SD, mean), by = \"cat\"]\n",
    "dtScores[,lapply(.SD, mean), by = \"cat\", .SDcols = c(\"score2\",\"score3\")]"
   ]
  },
  {
   "cell_type": "markdown",
   "metadata": {},
   "source": [
    "# Using the `:=` operator for assignments"
   ]
  },
  {
   "cell_type": "code",
   "execution_count": 23,
   "metadata": {
    "collapsed": false
   },
   "outputs": [
    {
     "data": {
      "text/html": [
       "<table>\n",
       "<thead><tr><th></th><th scope=col>id</th><th scope=col>prog</th><th scope=col>sch</th><th scope=col>gender</th><th scope=col>score</th><th scope=col>mean_score</th></tr></thead>\n",
       "<tbody>\n",
       "\t<tr><th scope=row>1</th><td>1</td><td>A</td><td>North</td><td>F</td><td>0.06739996</td><td>0.4596354</td></tr>\n",
       "\t<tr><th scope=row>2</th><td>2</td><td>A</td><td>South</td><td>F</td><td>0.9206563</td><td>0.4596354</td></tr>\n",
       "\t<tr><th scope=row>3</th><td>3</td><td>A</td><td>North</td><td>F</td><td>0.6910774</td><td>0.4596354</td></tr>\n",
       "\t<tr><th scope=row>4</th><td>4</td><td>A</td><td>South</td><td>F</td><td>0.04123674</td><td>0.4596354</td></tr>\n",
       "\t<tr><th scope=row>5</th><td>5</td><td>B</td><td>North</td><td>M</td><td>0.8092121</td><td>0.4596354</td></tr>\n",
       "\t<tr><th scope=row>6</th><td>6</td><td>B</td><td>South</td><td>M</td><td>0.106991</td><td>0.4596354</td></tr>\n",
       "\t<tr><th scope=row>7</th><td>7</td><td>B</td><td>North</td><td>M</td><td>0.4896426</td><td>0.4596354</td></tr>\n",
       "\t<tr><th scope=row>8</th><td>8</td><td>B</td><td>South</td><td>M</td><td>0.05879476</td><td>0.4596354</td></tr>\n",
       "\t<tr><th scope=row>9</th><td>9</td><td>None</td><td>North</td><td>F</td><td>0.2349503</td><td>0.4596354</td></tr>\n",
       "\t<tr><th scope=row>10</th><td>10</td><td>None</td><td>South</td><td>M</td><td>0.362945</td><td>0.4596354</td></tr>\n",
       "\t<tr><th scope=row>11</th><td>11</td><td>None</td><td>North</td><td>F</td><td>0.8463468</td><td>0.4596354</td></tr>\n",
       "\t<tr><th scope=row>12</th><td>12</td><td>None</td><td>South</td><td>M</td><td>0.8863718</td><td>0.4596354</td></tr>\n",
       "</tbody>\n",
       "</table>\n"
      ],
      "text/latex": [
       "\\begin{tabular}{r|llllll}\n",
       "  & id & prog & sch & gender & score & mean_score\\\\\n",
       "\\hline\n",
       "\t1 & 1 & A & North & F & 0.06739996 & 0.4596354\\\\\n",
       "\t2 & 2 & A & South & F & 0.9206563 & 0.4596354\\\\\n",
       "\t3 & 3 & A & North & F & 0.6910774 & 0.4596354\\\\\n",
       "\t4 & 4 & A & South & F & 0.04123674 & 0.4596354\\\\\n",
       "\t5 & 5 & B & North & M & 0.8092121 & 0.4596354\\\\\n",
       "\t6 & 6 & B & South & M & 0.106991 & 0.4596354\\\\\n",
       "\t7 & 7 & B & North & M & 0.4896426 & 0.4596354\\\\\n",
       "\t8 & 8 & B & South & M & 0.05879476 & 0.4596354\\\\\n",
       "\t9 & 9 & None & North & F & 0.2349503 & 0.4596354\\\\\n",
       "\t10 & 10 & None & South & M & 0.362945 & 0.4596354\\\\\n",
       "\t11 & 11 & None & North & F & 0.8463468 & 0.4596354\\\\\n",
       "\t12 & 12 & None & South & M & 0.8863718 & 0.4596354\\\\\n",
       "\\end{tabular}\n"
      ],
      "text/plain": [
       "    id prog   sch gender      score mean_score\n",
       " 1:  1    A North      F 0.06739996  0.4596354\n",
       " 2:  2    A South      F 0.92065630  0.4596354\n",
       " 3:  3    A North      F 0.69107737  0.4596354\n",
       " 4:  4    A South      F 0.04123674  0.4596354\n",
       " 5:  5    B North      M 0.80921214  0.4596354\n",
       " 6:  6    B South      M 0.10699104  0.4596354\n",
       " 7:  7    B North      M 0.48964260  0.4596354\n",
       " 8:  8    B South      M 0.05879476  0.4596354\n",
       " 9:  9 None North      F 0.23495028  0.4596354\n",
       "10: 10 None South      M 0.36294500  0.4596354\n",
       "11: 11 None North      F 0.84634683  0.4596354\n",
       "12: 12 None South      M 0.88637177  0.4596354"
      ]
     },
     "execution_count": 23,
     "metadata": {},
     "output_type": "execute_result"
    }
   ],
   "source": [
    "# Using \":=\" generates an assignment within the data table. Rather than being an on-the-fly calculation, it directly \n",
    "# modifies the underlying data\n",
    "DT[, mean_score := mean(score)]\n",
    "# Note that, in this case, it would be redundant to assign the output to a new object,\n",
    "# e.g. don't do: newDT <- DT[, mean_score := mean(score)]"
   ]
  },
  {
   "cell_type": "code",
   "execution_count": 24,
   "metadata": {
    "collapsed": false
   },
   "outputs": [
    {
     "data": {
      "text/html": [
       "<table>\n",
       "<thead><tr><th></th><th scope=col>id</th><th scope=col>prog</th><th scope=col>sch</th><th scope=col>gender</th><th scope=col>score</th><th scope=col>mean_score</th><th scope=col>A</th><th scope=col>B</th></tr></thead>\n",
       "<tbody>\n",
       "\t<tr><th scope=row>1</th><td>1</td><td>A</td><td>North</td><td>F</td><td>0.06739996</td><td>0.4596354</td><td>0.7790998</td><td>a</td></tr>\n",
       "\t<tr><th scope=row>2</th><td>2</td><td>A</td><td>South</td><td>F</td><td>0.9206563</td><td>0.4596354</td><td>0.5007577</td><td>b</td></tr>\n",
       "\t<tr><th scope=row>3</th><td>3</td><td>A</td><td>North</td><td>F</td><td>0.6910774</td><td>0.4596354</td><td>0.5725961</td><td>c</td></tr>\n",
       "\t<tr><th scope=row>4</th><td>4</td><td>A</td><td>South</td><td>F</td><td>0.04123674</td><td>0.4596354</td><td>0.1458192</td><td>d</td></tr>\n",
       "\t<tr><th scope=row>5</th><td>5</td><td>B</td><td>North</td><td>M</td><td>0.8092121</td><td>0.4596354</td><td>0.8328311</td><td>e</td></tr>\n",
       "\t<tr><th scope=row>6</th><td>6</td><td>B</td><td>South</td><td>M</td><td>0.106991</td><td>0.4596354</td><td>0.1355983</td><td>f</td></tr>\n",
       "\t<tr><th scope=row>7</th><td>7</td><td>B</td><td>North</td><td>M</td><td>0.4896426</td><td>0.4596354</td><td>0.4246577</td><td>g</td></tr>\n",
       "\t<tr><th scope=row>8</th><td>8</td><td>B</td><td>South</td><td>M</td><td>0.05879476</td><td>0.4596354</td><td>0.4855925</td><td>h</td></tr>\n",
       "\t<tr><th scope=row>9</th><td>9</td><td>None</td><td>North</td><td>F</td><td>0.2349503</td><td>0.4596354</td><td>0.5816945</td><td>i</td></tr>\n",
       "\t<tr><th scope=row>10</th><td>10</td><td>None</td><td>South</td><td>M</td><td>0.362945</td><td>0.4596354</td><td>0.4928414</td><td>j</td></tr>\n",
       "\t<tr><th scope=row>11</th><td>11</td><td>None</td><td>North</td><td>F</td><td>0.8463468</td><td>0.4596354</td><td>0.9395568</td><td>k</td></tr>\n",
       "\t<tr><th scope=row>12</th><td>12</td><td>None</td><td>South</td><td>M</td><td>0.8863718</td><td>0.4596354</td><td>0.1247695</td><td>l</td></tr>\n",
       "</tbody>\n",
       "</table>\n"
      ],
      "text/latex": [
       "\\begin{tabular}{r|llllllll}\n",
       "  & id & prog & sch & gender & score & mean_score & A & B\\\\\n",
       "\\hline\n",
       "\t1 & 1 & A & North & F & 0.06739996 & 0.4596354 & 0.7790998 & a\\\\\n",
       "\t2 & 2 & A & South & F & 0.9206563 & 0.4596354 & 0.5007577 & b\\\\\n",
       "\t3 & 3 & A & North & F & 0.6910774 & 0.4596354 & 0.5725961 & c\\\\\n",
       "\t4 & 4 & A & South & F & 0.04123674 & 0.4596354 & 0.1458192 & d\\\\\n",
       "\t5 & 5 & B & North & M & 0.8092121 & 0.4596354 & 0.8328311 & e\\\\\n",
       "\t6 & 6 & B & South & M & 0.106991 & 0.4596354 & 0.1355983 & f\\\\\n",
       "\t7 & 7 & B & North & M & 0.4896426 & 0.4596354 & 0.4246577 & g\\\\\n",
       "\t8 & 8 & B & South & M & 0.05879476 & 0.4596354 & 0.4855925 & h\\\\\n",
       "\t9 & 9 & None & North & F & 0.2349503 & 0.4596354 & 0.5816945 & i\\\\\n",
       "\t10 & 10 & None & South & M & 0.362945 & 0.4596354 & 0.4928414 & j\\\\\n",
       "\t11 & 11 & None & North & F & 0.8463468 & 0.4596354 & 0.9395568 & k\\\\\n",
       "\t12 & 12 & None & South & M & 0.8863718 & 0.4596354 & 0.1247695 & l\\\\\n",
       "\\end{tabular}\n"
      ],
      "text/plain": [
       "    id prog   sch gender      score mean_score         A B\n",
       " 1:  1    A North      F 0.06739996  0.4596354 0.7790998 a\n",
       " 2:  2    A South      F 0.92065630  0.4596354 0.5007577 b\n",
       " 3:  3    A North      F 0.69107737  0.4596354 0.5725961 c\n",
       " 4:  4    A South      F 0.04123674  0.4596354 0.1458192 d\n",
       " 5:  5    B North      M 0.80921214  0.4596354 0.8328311 e\n",
       " 6:  6    B South      M 0.10699104  0.4596354 0.1355983 f\n",
       " 7:  7    B North      M 0.48964260  0.4596354 0.4246577 g\n",
       " 8:  8    B South      M 0.05879476  0.4596354 0.4855925 h\n",
       " 9:  9 None North      F 0.23495028  0.4596354 0.5816945 i\n",
       "10: 10 None South      M 0.36294500  0.4596354 0.4928414 j\n",
       "11: 11 None North      F 0.84634683  0.4596354 0.9395568 k\n",
       "12: 12 None South      M 0.88637177  0.4596354 0.1247695 l"
      ]
     },
     "execution_count": 24,
     "metadata": {},
     "output_type": "execute_result"
    }
   ],
   "source": [
    "# The \":=\" operator can be used to create multiple new columns.\n",
    "# Interestingly enough, the left-hand side is (as far as I can tell)\n",
    "# specified as a string\n",
    "DT[, c(\"A\", \"B\") := list(runif(nrow(DT)), letters[1:nrow(DT)])]"
   ]
  },
  {
   "cell_type": "code",
   "execution_count": 25,
   "metadata": {
    "collapsed": false
   },
   "outputs": [
    {
     "data": {
      "text/html": [
       "<table>\n",
       "<thead><tr><th></th><th scope=col>id</th><th scope=col>prog</th><th scope=col>sch</th><th scope=col>gender</th><th scope=col>score</th><th scope=col>A</th><th scope=col>B</th></tr></thead>\n",
       "<tbody>\n",
       "\t<tr><th scope=row>1</th><td>1</td><td>A</td><td>North</td><td>F</td><td>0.06739996</td><td>0.7790998</td><td>a</td></tr>\n",
       "\t<tr><th scope=row>2</th><td>2</td><td>A</td><td>South</td><td>F</td><td>0.9206563</td><td>0.5007577</td><td>b</td></tr>\n",
       "\t<tr><th scope=row>3</th><td>3</td><td>A</td><td>North</td><td>F</td><td>0.6910774</td><td>0.5725961</td><td>c</td></tr>\n",
       "\t<tr><th scope=row>4</th><td>4</td><td>A</td><td>South</td><td>F</td><td>0.04123674</td><td>0.1458192</td><td>d</td></tr>\n",
       "\t<tr><th scope=row>5</th><td>5</td><td>B</td><td>North</td><td>M</td><td>0.8092121</td><td>0.8328311</td><td>e</td></tr>\n",
       "\t<tr><th scope=row>6</th><td>6</td><td>B</td><td>South</td><td>M</td><td>0.106991</td><td>0.1355983</td><td>f</td></tr>\n",
       "\t<tr><th scope=row>7</th><td>7</td><td>B</td><td>North</td><td>M</td><td>0.4896426</td><td>0.4246577</td><td>g</td></tr>\n",
       "\t<tr><th scope=row>8</th><td>8</td><td>B</td><td>South</td><td>M</td><td>0.05879476</td><td>0.4855925</td><td>h</td></tr>\n",
       "\t<tr><th scope=row>9</th><td>9</td><td>None</td><td>North</td><td>F</td><td>0.2349503</td><td>0.5816945</td><td>i</td></tr>\n",
       "\t<tr><th scope=row>10</th><td>10</td><td>None</td><td>South</td><td>M</td><td>0.362945</td><td>0.4928414</td><td>j</td></tr>\n",
       "\t<tr><th scope=row>11</th><td>11</td><td>None</td><td>North</td><td>F</td><td>0.8463468</td><td>0.9395568</td><td>k</td></tr>\n",
       "\t<tr><th scope=row>12</th><td>12</td><td>None</td><td>South</td><td>M</td><td>0.8863718</td><td>0.1247695</td><td>l</td></tr>\n",
       "</tbody>\n",
       "</table>\n"
      ],
      "text/latex": [
       "\\begin{tabular}{r|lllllll}\n",
       "  & id & prog & sch & gender & score & A & B\\\\\n",
       "\\hline\n",
       "\t1 & 1 & A & North & F & 0.06739996 & 0.7790998 & a\\\\\n",
       "\t2 & 2 & A & South & F & 0.9206563 & 0.5007577 & b\\\\\n",
       "\t3 & 3 & A & North & F & 0.6910774 & 0.5725961 & c\\\\\n",
       "\t4 & 4 & A & South & F & 0.04123674 & 0.1458192 & d\\\\\n",
       "\t5 & 5 & B & North & M & 0.8092121 & 0.8328311 & e\\\\\n",
       "\t6 & 6 & B & South & M & 0.106991 & 0.1355983 & f\\\\\n",
       "\t7 & 7 & B & North & M & 0.4896426 & 0.4246577 & g\\\\\n",
       "\t8 & 8 & B & South & M & 0.05879476 & 0.4855925 & h\\\\\n",
       "\t9 & 9 & None & North & F & 0.2349503 & 0.5816945 & i\\\\\n",
       "\t10 & 10 & None & South & M & 0.362945 & 0.4928414 & j\\\\\n",
       "\t11 & 11 & None & North & F & 0.8463468 & 0.9395568 & k\\\\\n",
       "\t12 & 12 & None & South & M & 0.8863718 & 0.1247695 & l\\\\\n",
       "\\end{tabular}\n"
      ],
      "text/plain": [
       "    id prog   sch gender      score         A B\n",
       " 1:  1    A North      F 0.06739996 0.7790998 a\n",
       " 2:  2    A South      F 0.92065630 0.5007577 b\n",
       " 3:  3    A North      F 0.69107737 0.5725961 c\n",
       " 4:  4    A South      F 0.04123674 0.1458192 d\n",
       " 5:  5    B North      M 0.80921214 0.8328311 e\n",
       " 6:  6    B South      M 0.10699104 0.1355983 f\n",
       " 7:  7    B North      M 0.48964260 0.4246577 g\n",
       " 8:  8    B South      M 0.05879476 0.4855925 h\n",
       " 9:  9 None North      F 0.23495028 0.5816945 i\n",
       "10: 10 None South      M 0.36294500 0.4928414 j\n",
       "11: 11 None North      F 0.84634683 0.9395568 k\n",
       "12: 12 None South      M 0.88637177 0.1247695 l"
      ]
     },
     "execution_count": 25,
     "metadata": {},
     "output_type": "execute_result"
    },
    {
     "data": {
      "text/html": [
       "<table>\n",
       "<thead><tr><th></th><th scope=col>id</th><th scope=col>prog</th><th scope=col>sch</th><th scope=col>gender</th><th scope=col>score</th></tr></thead>\n",
       "<tbody>\n",
       "\t<tr><th scope=row>1</th><td>1</td><td>A</td><td>North</td><td>F</td><td>0.06739996</td></tr>\n",
       "\t<tr><th scope=row>2</th><td>2</td><td>A</td><td>South</td><td>F</td><td>0.9206563</td></tr>\n",
       "\t<tr><th scope=row>3</th><td>3</td><td>A</td><td>North</td><td>F</td><td>0.6910774</td></tr>\n",
       "\t<tr><th scope=row>4</th><td>4</td><td>A</td><td>South</td><td>F</td><td>0.04123674</td></tr>\n",
       "\t<tr><th scope=row>5</th><td>5</td><td>B</td><td>North</td><td>M</td><td>0.8092121</td></tr>\n",
       "\t<tr><th scope=row>6</th><td>6</td><td>B</td><td>South</td><td>M</td><td>0.106991</td></tr>\n",
       "\t<tr><th scope=row>7</th><td>7</td><td>B</td><td>North</td><td>M</td><td>0.4896426</td></tr>\n",
       "\t<tr><th scope=row>8</th><td>8</td><td>B</td><td>South</td><td>M</td><td>0.05879476</td></tr>\n",
       "\t<tr><th scope=row>9</th><td>9</td><td>None</td><td>North</td><td>F</td><td>0.2349503</td></tr>\n",
       "\t<tr><th scope=row>10</th><td>10</td><td>None</td><td>South</td><td>M</td><td>0.362945</td></tr>\n",
       "\t<tr><th scope=row>11</th><td>11</td><td>None</td><td>North</td><td>F</td><td>0.8463468</td></tr>\n",
       "\t<tr><th scope=row>12</th><td>12</td><td>None</td><td>South</td><td>M</td><td>0.8863718</td></tr>\n",
       "</tbody>\n",
       "</table>\n"
      ],
      "text/latex": [
       "\\begin{tabular}{r|lllll}\n",
       "  & id & prog & sch & gender & score\\\\\n",
       "\\hline\n",
       "\t1 & 1 & A & North & F & 0.06739996\\\\\n",
       "\t2 & 2 & A & South & F & 0.9206563\\\\\n",
       "\t3 & 3 & A & North & F & 0.6910774\\\\\n",
       "\t4 & 4 & A & South & F & 0.04123674\\\\\n",
       "\t5 & 5 & B & North & M & 0.8092121\\\\\n",
       "\t6 & 6 & B & South & M & 0.106991\\\\\n",
       "\t7 & 7 & B & North & M & 0.4896426\\\\\n",
       "\t8 & 8 & B & South & M & 0.05879476\\\\\n",
       "\t9 & 9 & None & North & F & 0.2349503\\\\\n",
       "\t10 & 10 & None & South & M & 0.362945\\\\\n",
       "\t11 & 11 & None & North & F & 0.8463468\\\\\n",
       "\t12 & 12 & None & South & M & 0.8863718\\\\\n",
       "\\end{tabular}\n"
      ],
      "text/plain": [
       "    id prog   sch gender      score\n",
       " 1:  1    A North      F 0.06739996\n",
       " 2:  2    A South      F 0.92065630\n",
       " 3:  3    A North      F 0.69107737\n",
       " 4:  4    A South      F 0.04123674\n",
       " 5:  5    B North      M 0.80921214\n",
       " 6:  6    B South      M 0.10699104\n",
       " 7:  7    B North      M 0.48964260\n",
       " 8:  8    B South      M 0.05879476\n",
       " 9:  9 None North      F 0.23495028\n",
       "10: 10 None South      M 0.36294500\n",
       "11: 11 None North      F 0.84634683\n",
       "12: 12 None South      M 0.88637177"
      ]
     },
     "execution_count": 25,
     "metadata": {},
     "output_type": "execute_result"
    }
   ],
   "source": [
    "# Columns can be removed by using \":=\" to assign columns to null\n",
    "DT[, \"mean_score\" := NULL]\n",
    "DT[, c(\"A\", \"B\") := NULL]"
   ]
  },
  {
   "cell_type": "markdown",
   "metadata": {},
   "source": [
    "# Chaining\n",
    "Chaining is a straightforward way to perform multiple sequential operations on a given object. It is not unique to data.table objects, but can be very handy."
   ]
  },
  {
   "cell_type": "code",
   "execution_count": 26,
   "metadata": {
    "collapsed": false
   },
   "outputs": [
    {
     "ename": "ERROR",
     "evalue": "Error in `[.data.table`(DT, , score_mean = mean(score), by = prog): unused argument (score_mean = mean(score))\n",
     "output_type": "error",
     "traceback": [
      "Error in `[.data.table`(DT, , score_mean = mean(score), by = prog): unused argument (score_mean = mean(score))\n"
     ]
    },
    {
     "ename": "ERROR",
     "evalue": "Error in eval(expr, envir, enclos): object 'temp' not found\n",
     "output_type": "error",
     "traceback": [
      "Error in eval(expr, envir, enclos): object 'temp' not found\n"
     ]
    },
    {
     "ename": "ERROR",
     "evalue": "Error in `[.data.table`(DT, , score_mean = mean(score), by = prog): unused argument (score_mean = mean(score))\n",
     "output_type": "error",
     "traceback": [
      "Error in `[.data.table`(DT, , score_mean = mean(score), by = prog): unused argument (score_mean = mean(score))\n"
     ]
    }
   ],
   "source": [
    "# A fully spelled-out sequential process\n",
    "temp <- DT[, score_mean = mean(score), by = prog]\n",
    "temp[score_sum>0.3]\n",
    "\n",
    "# Done by chaining\n",
    "DT[, score_mean = mean(score), by = prog][score_sum>0.3]"
   ]
  },
  {
   "cell_type": "markdown",
   "metadata": {},
   "source": [
    "Another way way to chain operations within a data.table statement is using curly braces, where only the last statement is returned"
   ]
  },
  {
   "cell_type": "code",
   "execution_count": null,
   "metadata": {
    "collapsed": true
   },
   "outputs": [],
   "source": []
  },
  {
   "cell_type": "markdown",
   "metadata": {},
   "source": [
    "# Using data.table for data manipulations"
   ]
  },
  {
   "cell_type": "code",
   "execution_count": 27,
   "metadata": {
    "collapsed": false
   },
   "outputs": [
    {
     "data": {
      "text/html": [
       "<table>\n",
       "<thead><tr><th></th><th scope=col>id</th><th scope=col>prog</th><th scope=col>sch</th><th scope=col>gender</th><th scope=col>score</th><th scope=col>plusfive</th><th scope=col>fSomeProg</th><th scope=col>someProg</th></tr></thead>\n",
       "<tbody>\n",
       "\t<tr><th scope=row>1</th><td>6</td><td>B</td><td>South</td><td>M</td><td>0.106991</td><td>5.106991</td><td>Yep</td><td>Yep</td></tr>\n",
       "\t<tr><th scope=row>2</th><td>7</td><td>B</td><td>North</td><td>M</td><td>0.4896426</td><td>5.489643</td><td>Yep</td><td>Yep</td></tr>\n",
       "\t<tr><th scope=row>3</th><td>8</td><td>B</td><td>South</td><td>M</td><td>0.05879476</td><td>5.058795</td><td>Yep</td><td>Yep</td></tr>\n",
       "\t<tr><th scope=row>4</th><td>9</td><td>None</td><td>North</td><td>F</td><td>0.2349503</td><td>5.23495</td><td>Nope</td><td>Nope</td></tr>\n",
       "\t<tr><th scope=row>5</th><td>10</td><td>None</td><td>South</td><td>M</td><td>0.362945</td><td>5.362945</td><td>Nope</td><td>Nope</td></tr>\n",
       "\t<tr><th scope=row>6</th><td>11</td><td>None</td><td>North</td><td>F</td><td>0.8463468</td><td>5.846347</td><td>Nope</td><td>Nope</td></tr>\n",
       "\t<tr><th scope=row>7</th><td>12</td><td>None</td><td>South</td><td>M</td><td>0.8863718</td><td>5.886372</td><td>Nope</td><td>Nope</td></tr>\n",
       "</tbody>\n",
       "</table>\n"
      ],
      "text/latex": [
       "\\begin{tabular}{r|llllllll}\n",
       "  & id & prog & sch & gender & score & plusfive & fSomeProg & someProg\\\\\n",
       "\\hline\n",
       "\t1 & 6 & B & South & M & 0.106991 & 5.106991 & Yep & Yep\\\\\n",
       "\t2 & 7 & B & North & M & 0.4896426 & 5.489643 & Yep & Yep\\\\\n",
       "\t3 & 8 & B & South & M & 0.05879476 & 5.058795 & Yep & Yep\\\\\n",
       "\t4 & 9 & None & North & F & 0.2349503 & 5.23495 & Nope & Nope\\\\\n",
       "\t5 & 10 & None & South & M & 0.362945 & 5.362945 & Nope & Nope\\\\\n",
       "\t6 & 11 & None & North & F & 0.8463468 & 5.846347 & Nope & Nope\\\\\n",
       "\t7 & 12 & None & South & M & 0.8863718 & 5.886372 & Nope & Nope\\\\\n",
       "\\end{tabular}\n"
      ],
      "text/plain": [
       "   id prog   sch gender      score plusfive fSomeProg someProg\n",
       "1:  6    B South      M 0.10699104 5.106991       Yep      Yep\n",
       "2:  7    B North      M 0.48964260 5.489643       Yep      Yep\n",
       "3:  8    B South      M 0.05879476 5.058795       Yep      Yep\n",
       "4:  9 None North      F 0.23495028 5.234950      Nope     Nope\n",
       "5: 10 None South      M 0.36294500 5.362945      Nope     Nope\n",
       "6: 11 None North      F 0.84634683 5.846347      Nope     Nope\n",
       "7: 12 None South      M 0.88637177 5.886372      Nope     Nope"
      ]
     },
     "execution_count": 27,
     "metadata": {},
     "output_type": "execute_result"
    },
    {
     "name": "stdout",
     "output_type": "stream",
     "text": [
      "Classes 'data.table' and 'data.frame':\t12 obs. of  8 variables:\n",
      " $ id       : int  1 2 3 4 5 6 7 8 9 10 ...\n",
      " $ prog     : Factor w/ 3 levels \"A\",\"B\",\"None\": 1 1 1 1 2 2 2 2 3 3 ...\n",
      " $ sch      : Factor w/ 2 levels \"North\",\"South\": 1 2 1 2 1 2 1 2 1 2 ...\n",
      " $ gender   : Factor w/ 2 levels \"F\",\"M\": 1 1 1 1 2 2 2 2 1 2 ...\n",
      " $ score    : num  0.0674 0.9207 0.6911 0.0412 0.8092 ...\n",
      " $ plusfive : num  5.07 5.92 5.69 5.04 5.81 ...\n",
      " $ fSomeProg: Factor w/ 2 levels \"Nope\",\"Yep\": 2 2 2 2 2 2 2 2 1 1 ...\n",
      " $ someProg : chr  \"Yep\" \"Yep\" \"Yep\" \"Yep\" ...\n",
      " - attr(*, \".internal.selfref\")=<externalptr> \n",
      " - attr(*, \"index\")= atomic  \n",
      "  ..- attr(*, \"sch\")= int  1 3 5 7 9 11 2 4 6 8 ...\n",
      "  ..- attr(*, \"prog\")= int \n",
      " - attr(*, \"sorted\")= chr  \"id\" \"prog\" \"sch\" \"gender\"\n"
     ]
    }
   ],
   "source": [
    "# Operations that you commonly perform on data.frames will work with data.table objects too\n",
    "DT$plusfive <- DT$score + 5\n",
    "DT <- within(DT, {\n",
    "    someProg <- ifelse(prog == \"None\", \"Nope\", \"Yep\")    \n",
    "    fSomeProg <- factor(someProg)\n",
    "})\n",
    "subset(DT, id >= 6)\n",
    "str(DT)"
   ]
  },
  {
   "cell_type": "code",
   "execution_count": 28,
   "metadata": {
    "collapsed": false
   },
   "outputs": [
    {
     "data": {
      "text/html": [
       "<table>\n",
       "<thead><tr><th></th><th scope=col>id</th><th scope=col>prog</th><th scope=col>sch</th><th scope=col>gender</th><th scope=col>score</th><th scope=col>plusfive</th><th scope=col>fSomeProg</th><th scope=col>someProg</th><th scope=col>male</th><th scope=col>V2</th></tr></thead>\n",
       "<tbody>\n",
       "\t<tr><th scope=row>1</th><td>1</td><td>A</td><td>North</td><td>F</td><td>0.06739996</td><td>5.0674</td><td>Yep</td><td>Yep</td><td>FALSE</td><td>FALSE</td></tr>\n",
       "\t<tr><th scope=row>2</th><td>2</td><td>A</td><td>South</td><td>F</td><td>0.9206563</td><td>5.920656</td><td>Yep</td><td>Yep</td><td>NA</td><td>FALSE</td></tr>\n",
       "\t<tr><th scope=row>3</th><td>3</td><td>A</td><td>North</td><td>F</td><td>0.6910774</td><td>5.691077</td><td>Yep</td><td>Yep</td><td>NA</td><td>FALSE</td></tr>\n",
       "\t<tr><th scope=row>4</th><td>4</td><td>A</td><td>South</td><td>F</td><td>0.04123674</td><td>5.041237</td><td>Yep</td><td>Yep</td><td>NA</td><td>FALSE</td></tr>\n",
       "\t<tr><th scope=row>5</th><td>5</td><td>B</td><td>North</td><td>M</td><td>0.8092121</td><td>5.809212</td><td>Yep</td><td>Yep</td><td>TRUE</td><td>TRUE</td></tr>\n",
       "\t<tr><th scope=row>6</th><td>6</td><td>B</td><td>South</td><td>M</td><td>0.106991</td><td>5.106991</td><td>Yep</td><td>Yep</td><td>TRUE</td><td>TRUE</td></tr>\n",
       "\t<tr><th scope=row>7</th><td>7</td><td>B</td><td>North</td><td>M</td><td>0.4896426</td><td>5.489643</td><td>Yep</td><td>Yep</td><td>TRUE</td><td>TRUE</td></tr>\n",
       "\t<tr><th scope=row>8</th><td>8</td><td>B</td><td>South</td><td>M</td><td>0.05879476</td><td>5.058795</td><td>Yep</td><td>Yep</td><td>TRUE</td><td>TRUE</td></tr>\n",
       "\t<tr><th scope=row>9</th><td>9</td><td>None</td><td>North</td><td>F</td><td>0.2349503</td><td>5.23495</td><td>Nope</td><td>Nope</td><td>NA</td><td>FALSE</td></tr>\n",
       "\t<tr><th scope=row>10</th><td>10</td><td>None</td><td>South</td><td>M</td><td>0.362945</td><td>5.362945</td><td>Nope</td><td>Nope</td><td>TRUE</td><td>TRUE</td></tr>\n",
       "\t<tr><th scope=row>11</th><td>11</td><td>None</td><td>North</td><td>F</td><td>0.8463468</td><td>5.846347</td><td>Nope</td><td>Nope</td><td>NA</td><td>FALSE</td></tr>\n",
       "\t<tr><th scope=row>12</th><td>12</td><td>None</td><td>South</td><td>M</td><td>0.8863718</td><td>5.886372</td><td>Nope</td><td>Nope</td><td>TRUE</td><td>TRUE</td></tr>\n",
       "</tbody>\n",
       "</table>\n"
      ],
      "text/latex": [
       "\\begin{tabular}{r|llllllllll}\n",
       "  & id & prog & sch & gender & score & plusfive & fSomeProg & someProg & male & V2\\\\\n",
       "\\hline\n",
       "\t1 & 1 & A & North & F & 0.06739996 & 5.0674 & Yep & Yep & FALSE & FALSE\\\\\n",
       "\t2 & 2 & A & South & F & 0.9206563 & 5.920656 & Yep & Yep & NA & FALSE\\\\\n",
       "\t3 & 3 & A & North & F & 0.6910774 & 5.691077 & Yep & Yep & NA & FALSE\\\\\n",
       "\t4 & 4 & A & South & F & 0.04123674 & 5.041237 & Yep & Yep & NA & FALSE\\\\\n",
       "\t5 & 5 & B & North & M & 0.8092121 & 5.809212 & Yep & Yep & TRUE & TRUE\\\\\n",
       "\t6 & 6 & B & South & M & 0.106991 & 5.106991 & Yep & Yep & TRUE & TRUE\\\\\n",
       "\t7 & 7 & B & North & M & 0.4896426 & 5.489643 & Yep & Yep & TRUE & TRUE\\\\\n",
       "\t8 & 8 & B & South & M & 0.05879476 & 5.058795 & Yep & Yep & TRUE & TRUE\\\\\n",
       "\t9 & 9 & None & North & F & 0.2349503 & 5.23495 & Nope & Nope & NA & FALSE\\\\\n",
       "\t10 & 10 & None & South & M & 0.362945 & 5.362945 & Nope & Nope & TRUE & TRUE\\\\\n",
       "\t11 & 11 & None & North & F & 0.8463468 & 5.846347 & Nope & Nope & NA & FALSE\\\\\n",
       "\t12 & 12 & None & South & M & 0.8863718 & 5.886372 & Nope & Nope & TRUE & TRUE\\\\\n",
       "\\end{tabular}\n"
      ],
      "text/plain": [
       "    id prog   sch gender      score plusfive fSomeProg someProg  male    V2\n",
       " 1:  1    A North      F 0.06739996 5.067400       Yep      Yep FALSE FALSE\n",
       " 2:  2    A South      F 0.92065630 5.920656       Yep      Yep    NA FALSE\n",
       " 3:  3    A North      F 0.69107737 5.691077       Yep      Yep    NA FALSE\n",
       " 4:  4    A South      F 0.04123674 5.041237       Yep      Yep    NA FALSE\n",
       " 5:  5    B North      M 0.80921214 5.809212       Yep      Yep  TRUE  TRUE\n",
       " 6:  6    B South      M 0.10699104 5.106991       Yep      Yep  TRUE  TRUE\n",
       " 7:  7    B North      M 0.48964260 5.489643       Yep      Yep  TRUE  TRUE\n",
       " 8:  8    B South      M 0.05879476 5.058795       Yep      Yep  TRUE  TRUE\n",
       " 9:  9 None North      F 0.23495028 5.234950      Nope     Nope    NA FALSE\n",
       "10: 10 None South      M 0.36294500 5.362945      Nope     Nope  TRUE  TRUE\n",
       "11: 11 None North      F 0.84634683 5.846347      Nope     Nope    NA FALSE\n",
       "12: 12 None South      M 0.88637177 5.886372      Nope     Nope  TRUE  TRUE"
      ]
     },
     "execution_count": 28,
     "metadata": {},
     "output_type": "execute_result"
    },
    {
     "data": {
      "text/html": [
       "<table>\n",
       "<thead><tr><th></th><th scope=col>id</th><th scope=col>prog</th><th scope=col>sch</th><th scope=col>gender</th><th scope=col>score</th><th scope=col>plusfive</th><th scope=col>fSomeProg</th><th scope=col>someProg</th><th scope=col>male</th></tr></thead>\n",
       "<tbody>\n",
       "\t<tr><th scope=row>1</th><td>1</td><td>A</td><td>North</td><td>F</td><td>0.06739996</td><td>5.0674</td><td>Yep</td><td>Yep</td><td>FALSE</td></tr>\n",
       "\t<tr><th scope=row>2</th><td>2</td><td>A</td><td>South</td><td>F</td><td>0.9206563</td><td>5.920656</td><td>Yep</td><td>Yep</td><td>FALSE</td></tr>\n",
       "\t<tr><th scope=row>3</th><td>3</td><td>A</td><td>North</td><td>F</td><td>0.6910774</td><td>5.691077</td><td>Yep</td><td>Yep</td><td>FALSE</td></tr>\n",
       "\t<tr><th scope=row>4</th><td>4</td><td>A</td><td>South</td><td>F</td><td>0.04123674</td><td>5.041237</td><td>Yep</td><td>Yep</td><td>FALSE</td></tr>\n",
       "\t<tr><th scope=row>5</th><td>5</td><td>B</td><td>North</td><td>M</td><td>0.8092121</td><td>5.809212</td><td>Yep</td><td>Yep</td><td>TRUE</td></tr>\n",
       "\t<tr><th scope=row>6</th><td>6</td><td>B</td><td>South</td><td>M</td><td>0.106991</td><td>5.106991</td><td>Yep</td><td>Yep</td><td>TRUE</td></tr>\n",
       "\t<tr><th scope=row>7</th><td>7</td><td>B</td><td>North</td><td>M</td><td>0.4896426</td><td>5.489643</td><td>Yep</td><td>Yep</td><td>TRUE</td></tr>\n",
       "\t<tr><th scope=row>8</th><td>8</td><td>B</td><td>South</td><td>M</td><td>0.05879476</td><td>5.058795</td><td>Yep</td><td>Yep</td><td>TRUE</td></tr>\n",
       "\t<tr><th scope=row>9</th><td>9</td><td>None</td><td>North</td><td>F</td><td>0.2349503</td><td>5.23495</td><td>Nope</td><td>Nope</td><td>FALSE</td></tr>\n",
       "\t<tr><th scope=row>10</th><td>10</td><td>None</td><td>South</td><td>M</td><td>0.362945</td><td>5.362945</td><td>Nope</td><td>Nope</td><td>TRUE</td></tr>\n",
       "\t<tr><th scope=row>11</th><td>11</td><td>None</td><td>North</td><td>F</td><td>0.8463468</td><td>5.846347</td><td>Nope</td><td>Nope</td><td>FALSE</td></tr>\n",
       "\t<tr><th scope=row>12</th><td>12</td><td>None</td><td>South</td><td>M</td><td>0.8863718</td><td>5.886372</td><td>Nope</td><td>Nope</td><td>TRUE</td></tr>\n",
       "</tbody>\n",
       "</table>\n"
      ],
      "text/latex": [
       "\\begin{tabular}{r|lllllllll}\n",
       "  & id & prog & sch & gender & score & plusfive & fSomeProg & someProg & male\\\\\n",
       "\\hline\n",
       "\t1 & 1 & A & North & F & 0.06739996 & 5.0674 & Yep & Yep & FALSE\\\\\n",
       "\t2 & 2 & A & South & F & 0.9206563 & 5.920656 & Yep & Yep & FALSE\\\\\n",
       "\t3 & 3 & A & North & F & 0.6910774 & 5.691077 & Yep & Yep & FALSE\\\\\n",
       "\t4 & 4 & A & South & F & 0.04123674 & 5.041237 & Yep & Yep & FALSE\\\\\n",
       "\t5 & 5 & B & North & M & 0.8092121 & 5.809212 & Yep & Yep & TRUE\\\\\n",
       "\t6 & 6 & B & South & M & 0.106991 & 5.106991 & Yep & Yep & TRUE\\\\\n",
       "\t7 & 7 & B & North & M & 0.4896426 & 5.489643 & Yep & Yep & TRUE\\\\\n",
       "\t8 & 8 & B & South & M & 0.05879476 & 5.058795 & Yep & Yep & TRUE\\\\\n",
       "\t9 & 9 & None & North & F & 0.2349503 & 5.23495 & Nope & Nope & FALSE\\\\\n",
       "\t10 & 10 & None & South & M & 0.362945 & 5.362945 & Nope & Nope & TRUE\\\\\n",
       "\t11 & 11 & None & North & F & 0.8463468 & 5.846347 & Nope & Nope & FALSE\\\\\n",
       "\t12 & 12 & None & South & M & 0.8863718 & 5.886372 & Nope & Nope & TRUE\\\\\n",
       "\\end{tabular}\n"
      ],
      "text/plain": [
       "    id prog   sch gender      score plusfive fSomeProg someProg  male\n",
       " 1:  1    A North      F 0.06739996 5.067400       Yep      Yep FALSE\n",
       " 2:  2    A South      F 0.92065630 5.920656       Yep      Yep FALSE\n",
       " 3:  3    A North      F 0.69107737 5.691077       Yep      Yep FALSE\n",
       " 4:  4    A South      F 0.04123674 5.041237       Yep      Yep FALSE\n",
       " 5:  5    B North      M 0.80921214 5.809212       Yep      Yep  TRUE\n",
       " 6:  6    B South      M 0.10699104 5.106991       Yep      Yep  TRUE\n",
       " 7:  7    B North      M 0.48964260 5.489643       Yep      Yep  TRUE\n",
       " 8:  8    B South      M 0.05879476 5.058795       Yep      Yep  TRUE\n",
       " 9:  9 None North      F 0.23495028 5.234950      Nope     Nope FALSE\n",
       "10: 10 None South      M 0.36294500 5.362945      Nope     Nope  TRUE\n",
       "11: 11 None North      F 0.84634683 5.846347      Nope     Nope FALSE\n",
       "12: 12 None South      M 0.88637177 5.886372      Nope     Nope  TRUE"
      ]
     },
     "execution_count": 28,
     "metadata": {},
     "output_type": "execute_result"
    },
    {
     "data": {
      "text/html": [
       "<table>\n",
       "<thead><tr><th></th><th scope=col>gender</th><th scope=col>male</th></tr></thead>\n",
       "<tbody>\n",
       "\t<tr><th scope=row>1</th><td>F</td><td>FALSE</td></tr>\n",
       "\t<tr><th scope=row>2</th><td>F</td><td>FALSE</td></tr>\n",
       "\t<tr><th scope=row>3</th><td>F</td><td>FALSE</td></tr>\n",
       "\t<tr><th scope=row>4</th><td>F</td><td>FALSE</td></tr>\n",
       "\t<tr><th scope=row>5</th><td>M</td><td>TRUE</td></tr>\n",
       "\t<tr><th scope=row>6</th><td>M</td><td>TRUE</td></tr>\n",
       "\t<tr><th scope=row>7</th><td>M</td><td>TRUE</td></tr>\n",
       "\t<tr><th scope=row>8</th><td>M</td><td>TRUE</td></tr>\n",
       "\t<tr><th scope=row>9</th><td>F</td><td>FALSE</td></tr>\n",
       "\t<tr><th scope=row>10</th><td>M</td><td>TRUE</td></tr>\n",
       "\t<tr><th scope=row>11</th><td>F</td><td>FALSE</td></tr>\n",
       "\t<tr><th scope=row>12</th><td>M</td><td>TRUE</td></tr>\n",
       "</tbody>\n",
       "</table>\n"
      ],
      "text/latex": [
       "\\begin{tabular}{r|ll}\n",
       "  & gender & male\\\\\n",
       "\\hline\n",
       "\t1 & F & FALSE\\\\\n",
       "\t2 & F & FALSE\\\\\n",
       "\t3 & F & FALSE\\\\\n",
       "\t4 & F & FALSE\\\\\n",
       "\t5 & M & TRUE\\\\\n",
       "\t6 & M & TRUE\\\\\n",
       "\t7 & M & TRUE\\\\\n",
       "\t8 & M & TRUE\\\\\n",
       "\t9 & F & FALSE\\\\\n",
       "\t10 & M & TRUE\\\\\n",
       "\t11 & F & FALSE\\\\\n",
       "\t12 & M & TRUE\\\\\n",
       "\\end{tabular}\n"
      ],
      "text/plain": [
       "    gender  male\n",
       " 1:      F FALSE\n",
       " 2:      F FALSE\n",
       " 3:      F FALSE\n",
       " 4:      F FALSE\n",
       " 5:      M  TRUE\n",
       " 6:      M  TRUE\n",
       " 7:      M  TRUE\n",
       " 8:      M  TRUE\n",
       " 9:      F FALSE\n",
       "10:      M  TRUE\n",
       "11:      F FALSE\n",
       "12:      M  TRUE"
      ]
     },
     "execution_count": 28,
     "metadata": {},
     "output_type": "execute_result"
    }
   ],
   "source": [
    "# Some things that don't work\n",
    "DT <- within(DT, {\n",
    "    male <- FALSE\n",
    "    male[gender == \"M\"] <- TRUE\n",
    "})\n",
    "cbind(DT, DT$gender == \"M\")\n",
    "\n",
    "# And alternatives:\n",
    "DT$male <- FALSE\n",
    "DT[gender == \"M\", male := TRUE] # NSM: Not understanding/thrilled by auto print when data.table does these manipulations\n",
    "DT[, .(gender, male)]"
   ]
  },
  {
   "cell_type": "markdown",
   "metadata": {},
   "source": [
    "# Saving time with data.table"
   ]
  },
  {
   "cell_type": "markdown",
   "metadata": {},
   "source": [
    "## Assigning values"
   ]
  },
  {
   "cell_type": "code",
   "execution_count": 29,
   "metadata": {
    "collapsed": false
   },
   "outputs": [
    {
     "data": {
      "text/plain": [
       "   user  system elapsed \n",
       "   0.34    0.44    0.79 "
      ]
     },
     "execution_count": 29,
     "metadata": {},
     "output_type": "execute_result"
    },
    {
     "data": {
      "text/plain": [
       "   user  system elapsed \n",
       "   0.64    0.00    0.66 "
      ]
     },
     "execution_count": 29,
     "metadata": {},
     "output_type": "execute_result"
    },
    {
     "data": {
      "text/plain": [
       "   user  system elapsed \n",
       "   0.06    0.06    0.20 "
      ]
     },
     "execution_count": 29,
     "metadata": {},
     "output_type": "execute_result"
    },
    {
     "data": {
      "text/plain": [
       "   user  system elapsed \n",
       "   0.01    0.00    0.01 "
      ]
     },
     "execution_count": 29,
     "metadata": {},
     "output_type": "execute_result"
    }
   ],
   "source": [
    "# An example from Andrew Brooks' advanced data.table article\n",
    "M = matrix(1,nrow=100000,ncol=100)\n",
    "DF = as.data.frame(M)\n",
    "DT = as.data.table(M)\n",
    "system.time(for (i in 1:1000) DF[i,1L] <- i)\n",
    "system.time(for (i in 1:1000) DT[i,V1:=i])\n",
    "system.time(for (i in 1:1000) M[i,1L] <- i)\n",
    "system.time(for (i in 1:1000) set(DT,i,1L,i))"
   ]
  },
  {
   "cell_type": "markdown",
   "metadata": {},
   "source": [
    "## Calculations with \"By\"s"
   ]
  },
  {
   "cell_type": "code",
   "execution_count": 30,
   "metadata": {
    "collapsed": false
   },
   "outputs": [],
   "source": [
    "n <- 1e6\n",
    "dfBig <- data.frame(cat = sample(LETTERS[1:4], n, replace = TRUE), x = rnorm(n))\n",
    "dtBig <- data.table(dfBig)\n",
    "dtBigKey <- data.table(dfBig, key = \"cat\")"
   ]
  },
  {
   "cell_type": "code",
   "execution_count": 31,
   "metadata": {
    "collapsed": false
   },
   "outputs": [
    {
     "data": {
      "text/plain": [
       "   user  system elapsed \n",
       "  41.84    0.38   44.23 "
      ]
     },
     "execution_count": 31,
     "metadata": {},
     "output_type": "execute_result"
    },
    {
     "data": {
      "text/plain": [
       "   user  system elapsed \n",
       "   0.32    0.06    0.37 "
      ]
     },
     "execution_count": 31,
     "metadata": {},
     "output_type": "execute_result"
    },
    {
     "data": {
      "text/plain": [
       "   user  system elapsed \n",
       "   0.07    0.00    0.07 "
      ]
     },
     "execution_count": 31,
     "metadata": {},
     "output_type": "execute_result"
    },
    {
     "data": {
      "text/plain": [
       "   user  system elapsed \n",
       "   0.06    0.00    0.07 "
      ]
     },
     "execution_count": 31,
     "metadata": {},
     "output_type": "execute_result"
    }
   ],
   "source": [
    "library(plyr)\n",
    "system.time(mean_agg <- aggregate(x ~ cat, data = dfBig, mean))\n",
    "system.time(mean_ply <- ddply(dfBig, .(cat), summarize, x_mean = mean(x)))\n",
    "system.time(mean_dt  <- dtBig[, mean(x), by = \"cat\"])\n",
    "system.time(mean_key <- dtBigKey[, mean(x), by = \"cat\"])"
   ]
  },
  {
   "cell_type": "code",
   "execution_count": 32,
   "metadata": {
    "collapsed": false
   },
   "outputs": [
    {
     "data": {
      "text/html": [
       "<table>\n",
       "<thead><tr><th></th><th scope=col>cat</th><th scope=col>x</th><th scope=col>x_mean</th><th scope=col>V1.x</th><th scope=col>V1.y</th></tr></thead>\n",
       "<tbody>\n",
       "\t<tr><th scope=row>1</th><td>A</td><td>-0.002813597</td><td>-0.002813597</td><td>-0.002813597</td><td>-0.002813597</td></tr>\n",
       "\t<tr><th scope=row>2</th><td>B</td><td>0.005081824</td><td>0.005081824</td><td>0.005081824</td><td>0.005081824</td></tr>\n",
       "\t<tr><th scope=row>3</th><td>C</td><td>0.002282273</td><td>0.002282273</td><td>0.002282273</td><td>0.002282273</td></tr>\n",
       "\t<tr><th scope=row>4</th><td>D</td><td>0.00209818</td><td>0.00209818</td><td>0.00209818</td><td>0.00209818</td></tr>\n",
       "</tbody>\n",
       "</table>\n"
      ],
      "text/latex": [
       "\\begin{tabular}{r|lllll}\n",
       "  & cat & x & x_mean & V1.x & V1.y\\\\\n",
       "\\hline\n",
       "\t1 & A & -0.002813597 & -0.002813597 & -0.002813597 & -0.002813597\\\\\n",
       "\t2 & B & 0.005081824 & 0.005081824 & 0.005081824 & 0.005081824\\\\\n",
       "\t3 & C & 0.002282273 & 0.002282273 & 0.002282273 & 0.002282273\\\\\n",
       "\t4 & D & 0.00209818 & 0.00209818 & 0.00209818 & 0.00209818\\\\\n",
       "\\end{tabular}\n"
      ],
      "text/plain": [
       "  cat            x       x_mean         V1.x         V1.y\n",
       "1   A -0.002813597 -0.002813597 -0.002813597 -0.002813597\n",
       "2   B  0.005081824  0.005081824  0.005081824  0.005081824\n",
       "3   C  0.002282273  0.002282273  0.002282273  0.002282273\n",
       "4   D  0.002098180  0.002098180  0.002098180  0.002098180"
      ]
     },
     "execution_count": 32,
     "metadata": {},
     "output_type": "execute_result"
    }
   ],
   "source": [
    "library(magrittr) # This is a great library that allows coders to \"pipe\" the results of\n",
    "                  # one function into the first argument of another\n",
    "merge(mean_agg, mean_ply, by = \"cat\") %>% merge(mean_dt, by = \"cat\") %>% merge(mean_key, by = \"cat\")"
   ]
  }
 ],
 "metadata": {
  "kernelspec": {
   "display_name": "R",
   "language": "R",
   "name": "ir"
  },
  "language_info": {
   "codemirror_mode": "r",
   "file_extension": ".r",
   "mimetype": "text/x-r-source",
   "name": "R",
   "pygments_lexer": "r",
   "version": "3.1.3"
  },
  "toc": {
   "toc_cell": false,
   "toc_number_sections": true,
   "toc_threshold": 6,
   "toc_window_display": false
  }
 },
 "nbformat": 4,
 "nbformat_minor": 0
}

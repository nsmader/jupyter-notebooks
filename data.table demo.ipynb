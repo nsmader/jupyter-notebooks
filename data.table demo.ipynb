{
 "cells": [
  {
   "cell_type": "markdown",
   "metadata": {},
   "source": [
    "# Demonstration of data.table functionality\n",
    "\n",
    "For several great example-based resources for seeing what data.table can do, see DataCamp's data.table cheat sheet (saved under **H:\\LIBRARY\\R references/data.table/data.table cheat sheet.pdf**) and the built-in function `example(data.table)` after loading the `data.table` library into R."
   ]
  },
  {
   "cell_type": "markdown",
   "metadata": {},
   "source": [
    "## Generate data\n",
    "We'll start our demo with a simple data set that reflects as much richness as we'll need. Later, we'll generate much larger data sets to demonstrate the considerable speed advantages of data.table over data.frame methods.\n",
    "\n",
    "Note that the data.frame \"DF\" and data.table \"DT\" have exactly parallel structure as displayed here. In R, their printed representations will differ slightly, where DT has a smarter printout, showing both head and tail rows, and field names printed at the bottom of the table for easier reference."
   ]
  },
  {
   "cell_type": "code",
   "execution_count": null,
   "metadata": {
    "collapsed": false
   },
   "outputs": [],
   "source": [
    "library(data.table)\n",
    "set.seed(60637)\n",
    "DF <- data.frame(id     = 1:12,\n",
    "                 prog   = rep(c(\"A\", \"B\", \"None\"), each = 4),\n",
    "                 sch    = rep(c(\"North\", \"South\"), times = 6),\n",
    "                 gender = sample(c(\"M\", \"F\"), 12, replace = TRUE),\n",
    "                 score  = runif(12))\n",
    "DT <- data.table(DF, key = \"id,prog,sch,gender\")\n",
    "DF\n",
    "DT"
   ]
  },
  {
   "cell_type": "markdown",
   "metadata": {},
   "source": [
    "## General structure of working with data.table objects\n",
    "Whereas data.frame contents can be accessed using square brackets and references to rows and columns, i.e. ```df[*row indication*, *col indication*]```, data.table contents take three arguments: ```dt[i,j,by]``` where:\n",
    "\n",
    "* i - indication of rows\n",
    "* j - indication/operation on columns (optional)\n",
    "* by - built-in ability to run operations with a subset"
   ]
  },
  {
   "cell_type": "markdown",
   "metadata": {},
   "source": [
    "## Subsetting by rows\n",
    "This works both by the familiar dt[<row subset info>.] with a comma demarcating rows vs. colums, or simply with dt[<row subset info>] with no comma."
   ]
  },
  {
   "cell_type": "code",
   "execution_count": null,
   "metadata": {
    "collapsed": false
   },
   "outputs": [],
   "source": [
    "DT[3:5,]"
   ]
  },
  {
   "cell_type": "code",
   "execution_count": null,
   "metadata": {
    "collapsed": false
   },
   "outputs": [],
   "source": [
    "DT[3:5]"
   ]
  },
  {
   "cell_type": "code",
   "execution_count": null,
   "metadata": {
    "collapsed": false
   },
   "outputs": [],
   "source": [
    "DT[sch == \"North\"]"
   ]
  },
  {
   "cell_type": "code",
   "execution_count": null,
   "metadata": {
    "collapsed": false
   },
   "outputs": [],
   "source": [
    "DT[prog %in% c(\"A\", \"B\")]"
   ]
  },
  {
   "cell_type": "markdown",
   "metadata": {},
   "source": [
    "## Working with data.table columns"
   ]
  },
  {
   "cell_type": "code",
   "execution_count": null,
   "metadata": {
    "collapsed": false
   },
   "outputs": [],
   "source": [
    "# Referencing columns in data.table is also just a bit different than for data.frames.\n",
    "# Rather than refering to column titles using their names, stored as a string, you\n",
    "# refer to them using the unquoted name of the column. Think about this as similar to\n",
    "# e.g. subset(), aggregate(), or within() functions, where you indicate the name\n",
    "# of the data.frame and then are within the \"environment\" of that data.frame and\n",
    "# can reference names of the columns directly, as if there were objects in the global\n",
    "# environment.\n",
    "DT[, \"sch\"]\n",
    "DT[, sch]"
   ]
  },
  {
   "cell_type": "code",
   "execution_count": null,
   "metadata": {
    "collapsed": false
   },
   "outputs": [],
   "source": [
    "# However you can still reference columns by string by using the get() function, whose (helpful!) job it\n",
    "# it is to take the name of an object, stored as a string, and fetch you the object itself.\n",
    "DT[, get(\"sch\")]"
   ]
  },
  {
   "cell_type": "code",
   "execution_count": null,
   "metadata": {
    "collapsed": false
   },
   "outputs": [],
   "source": [
    "# Additionally, think of groups of columns as lists\n",
    "DT[1:3, list(id, sch)]\n",
    "# And note that \".()\" is shorthand for \"list()\"\n",
    "DT[1:3, .(id, sch)]"
   ]
  },
  {
   "cell_type": "code",
   "execution_count": null,
   "metadata": {
    "collapsed": false
   },
   "outputs": [],
   "source": [
    "# (Indeed, it may be interesting to know that data.frames are constructed as a special\n",
    "#  type of list, where each list element is of exactly the same length. The fact that \n",
    "#  lists can have contents of totally different types is what lets columns of data.frames\n",
    "#  have columns of different data types, unlike matrices which are also 2x2 tables but which\n",
    "#  can only have elements of the same (numeric) types.)\n",
    "# For example, the following command loops through DF's columns since, as a data.frame/list, its\n",
    "# base elements are the columns. \n",
    "lapply(DF, function(x) class(x))"
   ]
  },
  {
   "cell_type": "code",
   "execution_count": null,
   "metadata": {
    "collapsed": false
   },
   "outputs": [],
   "source": [
    "DT[, mean(score)]"
   ]
  },
  {
   "cell_type": "code",
   "execution_count": null,
   "metadata": {
    "collapsed": false
   },
   "outputs": [],
   "source": [
    "DT[, .(mean(score), sum(score))]"
   ]
  },
  {
   "cell_type": "code",
   "execution_count": null,
   "metadata": {
    "collapsed": false
   },
   "outputs": [],
   "source": [
    "DT[, .(mean_score = mean(score), sum_score = sum(score))]"
   ]
  },
  {
   "cell_type": "markdown",
   "metadata": {},
   "source": [
    "(Need to talk about ```:=``` as its own operation that generates an assignment within the data table)"
   ]
  },
  {
   "cell_type": "code",
   "execution_count": null,
   "metadata": {
    "collapsed": false
   },
   "outputs": [],
   "source": [
    "DT[1:3, .(id, score, mean_score = mean(score))]"
   ]
  },
  {
   "cell_type": "code",
   "execution_count": null,
   "metadata": {
    "collapsed": false
   },
   "outputs": [],
   "source": [
    "# Can even run multiple commands from within the DT environment using curly braces\n",
    "DT[, {print(score)\n",
    "      hist(score)$histogram\n",
    "      }]"
   ]
  },
  {
   "cell_type": "markdown",
   "metadata": {},
   "source": [
    "## Working with \"by\"s"
   ]
  },
  {
   "cell_type": "code",
   "execution_count": null,
   "metadata": {
    "collapsed": false
   },
   "outputs": [],
   "source": [
    "# Can specify the \"by\" using a character string...\n",
    "DT[, .(mean_score = mean(score)), by = \"prog\"]"
   ]
  },
  {
   "cell_type": "code",
   "execution_count": null,
   "metadata": {
    "collapsed": false
   },
   "outputs": [],
   "source": [
    "# ... or as a column object within the data.table object \n",
    "DT[, .(mean_score = mean(score)), by = prog]"
   ]
  },
  {
   "cell_type": "code",
   "execution_count": null,
   "metadata": {
    "collapsed": false
   },
   "outputs": [],
   "source": [
    "# Can do multiple \"by\"s with a string, separating by commas\n",
    "DT[, .(mean_score = mean(score)), by = \"prog,sch\"]"
   ]
  },
  {
   "cell_type": "code",
   "execution_count": null,
   "metadata": {
    "collapsed": false
   },
   "outputs": [],
   "source": [
    "# Can do multiple \"by\"s with column object references, using list syntax (i.e. the \".()\")\n",
    "DT[, .(mean_score = mean(score)), by = .(prog,sch)]"
   ]
  },
  {
   "cell_type": "code",
   "execution_count": null,
   "metadata": {
    "collapsed": false
   },
   "outputs": [],
   "source": [
    "# Just like with columns, we can generate \"by\" information on the fly\n",
    "DT[, .(mean_score = mean(score)), by = .(any_prog = prog %in% c(\"A\", \"B\"))]"
   ]
  },
  {
   "cell_type": "code",
   "execution_count": null,
   "metadata": {
    "collapsed": false
   },
   "outputs": [],
   "source": [
    "# Subset and then perform \"by\" calculations\n",
    "DT[sch == \"North\", .(mean_score = mean(score), N = .N), by = \"gender\"]"
   ]
  },
  {
   "cell_type": "markdown",
   "metadata": {},
   "source": [
    "## Working with special values\n",
    "E.g. \".N\", \".I\", \".GRP\", \".SD\" and others"
   ]
  },
  {
   "cell_type": "code",
   "execution_count": null,
   "metadata": {
    "collapsed": false
   },
   "outputs": [],
   "source": [
    "# Using .N for group counts\n",
    "DT[, .(count = .N, group = .GRP), by = \"gender\"]"
   ]
  },
  {
   "cell_type": "markdown",
   "metadata": {},
   "source": [
    "## Using the `:=` operator"
   ]
  },
  {
   "cell_type": "code",
   "execution_count": null,
   "metadata": {
    "collapsed": false
   },
   "outputs": [],
   "source": [
    "# Using \":=\" generates an assignment within the data table. Rather than being an on-the-fly calculation, it directly \n",
    "# modifies the underlying data\n",
    "DT[, mean_score := mean(score)]\n",
    "# Note that, in this case, it would be redundant to assign the output to a new object,\n",
    "# e.g. don't do: newDT <- DT[, mean_score := mean(score)]"
   ]
  },
  {
   "cell_type": "code",
   "execution_count": null,
   "metadata": {
    "collapsed": false
   },
   "outputs": [],
   "source": [
    "# The \":=\" operator can be used to create multiple new columns.\n",
    "# Interestingly enough, the left-hand side is (as far as I can tell)\n",
    "# specified as a string\n",
    "DT[, c(\"A\", \"B\") := list(runif(nrow(DT)), letters[1:nrow(DT)])]"
   ]
  },
  {
   "cell_type": "code",
   "execution_count": null,
   "metadata": {
    "collapsed": false
   },
   "outputs": [],
   "source": [
    "# Columns can be removed by using \":=\" to assign columns to null\n",
    "DT[, \"plusfive\" := NULL]\n",
    "DT[, c(\"A\", \"B\") := NULL]"
   ]
  },
  {
   "cell_type": "markdown",
   "metadata": {},
   "source": [
    "## Chaining\n"
   ]
  },
  {
   "cell_type": "code",
   "execution_count": null,
   "metadata": {
    "collapsed": true
   },
   "outputs": [],
   "source": []
  },
  {
   "cell_type": "markdown",
   "metadata": {},
   "source": [
    "\n",
    "## Using data.table for data manipulations"
   ]
  },
  {
   "cell_type": "code",
   "execution_count": null,
   "metadata": {
    "collapsed": false
   },
   "outputs": [],
   "source": [
    "# Operations that you commonly perform on data.frames will work with data.table objects too\n",
    "DT$plusfive <- DT$score + 5\n",
    "DT <- within(DT, {\n",
    "    someProg <- ifelse(prog == \"None\", \"Nope\", \"Yep\")    \n",
    "    fSomeProg <- factor(someProg)\n",
    "})\n",
    "subset(DT, id >= 6)\n",
    "str(DT)"
   ]
  },
  {
   "cell_type": "code",
   "execution_count": null,
   "metadata": {
    "collapsed": true
   },
   "outputs": [],
   "source": [
    "# Some things that don't work\n",
    "DT <- within(DT, {\n",
    "    male <- FALSE\n",
    "    male[gender == \"F\"] <- TRUE\n",
    "})"
   ]
  },
  {
   "cell_type": "markdown",
   "metadata": {},
   "source": [
    "## Using data.table to save time"
   ]
  },
  {
   "cell_type": "code",
   "execution_count": null,
   "metadata": {
    "collapsed": false
   },
   "outputs": [],
   "source": [
    "n <- 1e6\n",
    "dfBig <- data.frame(cat = sample(LETTERS, n, replace = TRUE), x = rnorm(n))\n",
    "dtBig <- data.table(dfBig)\n",
    "dtBigKey <- data.table(dfBig, key = \"cat\")"
   ]
  },
  {
   "cell_type": "code",
   "execution_count": null,
   "metadata": {
    "collapsed": true
   },
   "outputs": [],
   "source": [
    "system.time(aggregate(x ~ cat, data = dfBig, mean))\n",
    "system.time(dtBig[, mean(x), by = \"cat\"])\n",
    "system.time(dtBigKey[, mean(x), by = \"cat\"])"
   ]
  },
  {
   "cell_type": "code",
   "execution_count": null,
   "metadata": {
    "collapsed": true
   },
   "outputs": [],
   "source": []
  }
 ],
 "metadata": {
  "kernelspec": {
   "display_name": "R",
   "language": "R",
   "name": "ir"
  },
  "language_info": {
   "codemirror_mode": "r",
   "file_extension": ".r",
   "mimetype": "text/x-r-source",
   "name": "R",
   "pygments_lexer": "r",
   "version": "3.1.3"
  }
 },
 "nbformat": 4,
 "nbformat_minor": 0
}

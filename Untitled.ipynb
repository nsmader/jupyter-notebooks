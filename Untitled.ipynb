{
 "cells": [
  {
   "cell_type": "markdown",
   "metadata": {},
   "source": [
    "# Testing Leaflet Map Embedding in Notebooks\n",
    "\n",
    "This exercise is an investigation into whether Jupyter Notebooks--whether native, or converted to html can be used to distribute map files."
   ]
  },
  {
   "cell_type": "code",
   "execution_count": 1,
   "metadata": {
    "collapsed": false
   },
   "outputs": [
    {
     "ename": "ERROR",
     "evalue": "Error in library(leaflet): there is no package called 'leaflet'\n",
     "output_type": "error",
     "traceback": [
      "Error in library(leaflet): there is no package called 'leaflet'\n"
     ]
    },
    {
     "ename": "ERROR",
     "evalue": "Error in eval(expr, envir, enclos): could not find function \"%>%\"\n",
     "output_type": "error",
     "traceback": [
      "Error in eval(expr, envir, enclos): could not find function \"%>%\"\n"
     ]
    }
   ],
   "source": [
    "library(leaflet)\n",
    "content <- paste(sep = \"<br/>\",\n",
    "  \"<b><a href='http://www.samurainoodle.com'>Samurai Noodle</a></b>\",\n",
    "  \"606 5th Ave. S\",\n",
    "  \"Seattle, WA 98138\"\n",
    ")\n",
    "\n",
    "leaflet() %>% addTiles() %>%\n",
    "  addPopups(-122.327298, 47.597131, content,\n",
    "    options = popupOptions(closeButton = FALSE)\n",
    "  )"
   ]
  }
 ],
 "metadata": {
  "kernelspec": {
   "display_name": "R",
   "language": "R",
   "name": "ir"
  },
  "language_info": {
   "codemirror_mode": "r",
   "file_extension": ".r",
   "mimetype": "text/x-r-source",
   "name": "R",
   "pygments_lexer": "r",
   "version": "3.1.3"
  }
 },
 "nbformat": 4,
 "nbformat_minor": 0
}

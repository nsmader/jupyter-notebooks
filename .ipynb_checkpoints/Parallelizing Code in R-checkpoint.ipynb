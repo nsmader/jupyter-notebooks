{
 "cells": [
  {
   "cell_type": "markdown",
   "metadata": {
    "toc": "true"
   },
   "source": [
    "# Table of Contents\n",
    " <p>"
   ]
  },
  {
   "cell_type": "markdown",
   "metadata": {},
   "source": [
    "<p style=\"font-size:36px\">Parallelizing Code in R</p>"
   ]
  },
  {
   "cell_type": "code",
   "execution_count": 3,
   "metadata": {
    "collapsed": false
   },
   "outputs": [
    {
     "data": {
      "text/html": [
       "<table>\n",
       "<thead><tr><th></th><th scope=col>cat</th><th scope=col>value</th></tr></thead>\n",
       "<tbody>\n",
       "\t<tr><th scope=row>1</th><td>d</td><td>0.3902386</td></tr>\n",
       "\t<tr><th scope=row>2</th><td>d</td><td>0.1811278</td></tr>\n",
       "\t<tr><th scope=row>3</th><td>e</td><td>0.8016944</td></tr>\n",
       "\t<tr><th scope=row>4</th><td>a</td><td>0.1068486</td></tr>\n",
       "\t<tr><th scope=row>5</th><td>d</td><td>0.8100715</td></tr>\n",
       "\t<tr><th scope=row>6</th><td>c</td><td>0.4308168</td></tr>\n",
       "</tbody>\n",
       "</table>\n"
      ],
      "text/latex": [
       "\\begin{tabular}{r|ll}\n",
       "  & cat & value\\\\\n",
       "\\hline\n",
       "\t1 & d & 0.3902386\\\\\n",
       "\t2 & d & 0.1811278\\\\\n",
       "\t3 & e & 0.8016944\\\\\n",
       "\t4 & a & 0.1068486\\\\\n",
       "\t5 & d & 0.8100715\\\\\n",
       "\t6 & c & 0.4308168\\\\\n",
       "\\end{tabular}\n"
      ],
      "text/plain": [
       "  cat     value\n",
       "1   d 0.3902386\n",
       "2   d 0.1811278\n",
       "3   e 0.8016944\n",
       "4   a 0.1068486\n",
       "5   d 0.8100715\n",
       "6   c 0.4308168"
      ]
     },
     "execution_count": 3,
     "metadata": {},
     "output_type": "execute_result"
    }
   ],
   "source": [
    "n <- 1e5\n",
    "data <- data.frame(cat = sample(letters[1:5], n, replace = TRUE),\n",
    "                   value = runif(n))\n",
    "head(data)"
   ]
  }
 ],
 "metadata": {
  "kernelspec": {
   "display_name": "R",
   "language": "R",
   "name": "ir"
  },
  "language_info": {
   "codemirror_mode": "r",
   "file_extension": ".r",
   "mimetype": "text/x-r-source",
   "name": "R",
   "pygments_lexer": "r",
   "version": "3.1.3"
  },
  "toc": {
   "toc_cell": true,
   "toc_number_sections": true,
   "toc_threshold": 6,
   "toc_window_display": false
  }
 },
 "nbformat": 4,
 "nbformat_minor": 0
}
